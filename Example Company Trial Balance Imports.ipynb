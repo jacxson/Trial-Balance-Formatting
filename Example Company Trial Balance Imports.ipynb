{
 "cells": [
  {
   "cell_type": "markdown",
   "id": "4fb35ecd-6910-4d36-b8ce-03c917953c57",
   "metadata": {
    "tags": []
   },
   "source": [
    "# Trial Balance Formatting: Preparing QuickBooks Export Data for Import into CCH Engagement\n",
    "\n",
    "**Part 1 of this notebook will contain an example of code used to format trial balance data with limited comments. Part 1 can also be found as a .py file in this same repository (trial_balance_etl.py) For a more detailed explanation of the process and instructions, see Part 2.**"
   ]
  },
  {
   "cell_type": "markdown",
   "id": "1c647ae5-283d-49e7-8251-97e4e9fa75b0",
   "metadata": {
    "tags": []
   },
   "source": [
    "## Part 1: Example Code"
   ]
  },
  {
   "cell_type": "markdown",
   "id": "3031f0f5-57cb-4f93-b2f1-06beed3d0c41",
   "metadata": {},
   "source": [
    "### Import Libraries"
   ]
  },
  {
   "cell_type": "code",
   "execution_count": 11,
   "id": "37f97567",
   "metadata": {},
   "outputs": [],
   "source": [
    "import pandas as pd\n",
    "import os"
   ]
  },
  {
   "cell_type": "markdown",
   "id": "45d259f5-d9db-4c51-8409-cdf5551ddaed",
   "metadata": {},
   "source": [
    "### Helper Functions"
   ]
  },
  {
   "cell_type": "code",
   "execution_count": 12,
   "id": "1dbe50f5-8cf3-45f4-8307-147fcb103b5a",
   "metadata": {},
   "outputs": [],
   "source": [
    "# Create a new dataframe column from splitting another column. 4 arguments:df, column to split, delimiter to split on, and index of the item we want from the .split() method\n",
    "# Set index default to -1 if no argument is given to select the last item in the list\n",
    "\n",
    "def new_col_from_split(df, split_col, delim, index = -1):\n",
    "    return [x[index] for x in df[split_col].astype(str).str.split(delim)]"
   ]
  },
  {
   "cell_type": "code",
   "execution_count": 13,
   "id": "1dfd4ce1-1f14-43c5-8a63-3f05d06041b1",
   "metadata": {},
   "outputs": [],
   "source": [
    "# This function creates a dictionary with files to format and account suffixes that will be added onto the account numbers in the file\n",
    "\n",
    "def create_entity_dict(df, entity_column, suffix_column, file_list=os.listdir('./quickbooks_data/')):\n",
    "    return {x + '.xlsx': '.' + y for x, y in zip(df[entity_column], df[suffix_column]) if x + '.xlsx' in file_list}"
   ]
  },
  {
   "cell_type": "code",
   "execution_count": 18,
   "id": "553e3326-aabd-46e9-8da1-e32de22d247c",
   "metadata": {},
   "outputs": [],
   "source": [
    "# This function performs all of the standard formatting changes necessary to prepare quickbooks exports for CCH Engagement\n",
    "# Minor Changes may be necessary from project to project\n",
    "\n",
    "def format_tbs(entities, data_folder='./quickbooks_data/'):\n",
    "    \n",
    "    if 'ready_for_tb_import' not in os.listdir():\n",
    "        os.mkdir('./ready_for_import/')\n",
    "        \n",
    "    if 'processed_quickbooks_files' not in os.listdir():\n",
    "        os.mkdir('./processed_quickbooks_files/')\n",
    "        \n",
    "    for entity, suffix in entities.items():\n",
    "        \n",
    "        # Print statement to help with debugging if one of the QuickBooks files is formatted differently\n",
    "        print(f'formatting {entity}')\n",
    "        \n",
    "        # Create a dataframe from the QuickBooks export file\n",
    "        df = pd.read_excel(f'{data_folder}{entity}', sheet_name='Sheet1', skiprows=4)\n",
    "        \n",
    "        # Drop the unneeded Total row\n",
    "        if 'total' in df.iloc[len(df) - 1, 0].lower():\n",
    "            df.drop(index=len(df) - 1, inplace=True)\n",
    "            \n",
    "        # Replace nan values with 0 \n",
    "        df.fillna(0, inplace=True)\n",
    "        \n",
    "        # Split combined name and account coloumn into separate name and account column, adding the suffix to the end of the account numbers.\n",
    "       \n",
    "        df['_col'] = new_col_from_split(df, 'Unnamed: 1', ':')\n",
    "        df['account_number'] = [account + suffix for account  in new_col_from_split(df, '_col', ' · ', index=0)]\n",
    "        df['account_name'] = new_col_from_split(df, '_col', ' · ')\n",
    "        \n",
    "        # Combine debit and credit columns into a single balance column\n",
    "        df['balance'] = df['Debit'] - df['Credit']\n",
    "        \n",
    "        # Export account number, account name, and balance columns to a new excel file in ready_for_import folder\n",
    "        df[['account_number', 'account_name', 'balance']].to_excel(f'./ready_for_tb_import/formatted_tb_{entity}', index=False)\n",
    "        \n",
    "        # Move QuickBooks excel file to import_file_created folder\n",
    "        os.rename(f'./{data_folder}/{entity}', f'./processed_quickbooks_files/{entity}')\n",
    "        \n",
    "        # Print statement confirming successful formatting to help with debugging\n",
    "        print(f'formatted_tb_{entity} successfully created')\n",
    "        "
   ]
  },
  {
   "cell_type": "markdown",
   "id": "d3a25938-1fce-4be2-819a-8ddb2b06228b",
   "metadata": {},
   "source": [
    "### Create Dictionary of Files to Format"
   ]
  },
  {
   "cell_type": "code",
   "execution_count": 15,
   "id": "8efa5d83-84f8-415d-b7a6-7fd7f1a3717e",
   "metadata": {},
   "outputs": [
    {
     "data": {
      "text/html": [
       "<div>\n",
       "<style scoped>\n",
       "    .dataframe tbody tr th:only-of-type {\n",
       "        vertical-align: middle;\n",
       "    }\n",
       "\n",
       "    .dataframe tbody tr th {\n",
       "        vertical-align: top;\n",
       "    }\n",
       "\n",
       "    .dataframe thead th {\n",
       "        text-align: right;\n",
       "    }\n",
       "</style>\n",
       "<table border=\"1\" class=\"dataframe\">\n",
       "  <thead>\n",
       "    <tr style=\"text-align: right;\">\n",
       "      <th></th>\n",
       "      <th>Acronym</th>\n",
       "      <th>Trial Balance</th>\n",
       "      <th>Entity</th>\n",
       "    </tr>\n",
       "  </thead>\n",
       "  <tbody>\n",
       "    <tr>\n",
       "      <th>0</th>\n",
       "      <td>ABC</td>\n",
       "      <td>34-ABC</td>\n",
       "      <td>ABC Subsidiary</td>\n",
       "    </tr>\n",
       "    <tr>\n",
       "      <th>1</th>\n",
       "      <td>DEF</td>\n",
       "      <td>34-DEF</td>\n",
       "      <td>DEF Subsidiary</td>\n",
       "    </tr>\n",
       "    <tr>\n",
       "      <th>2</th>\n",
       "      <td>GHI</td>\n",
       "      <td>34-GHI</td>\n",
       "      <td>GHI Subsidiary</td>\n",
       "    </tr>\n",
       "    <tr>\n",
       "      <th>3</th>\n",
       "      <td>JKL</td>\n",
       "      <td>34-GPD</td>\n",
       "      <td>JKL Subsidiary</td>\n",
       "    </tr>\n",
       "    <tr>\n",
       "      <th>4</th>\n",
       "      <td>MNO</td>\n",
       "      <td>34-MNO</td>\n",
       "      <td>MNO Subsidiary</td>\n",
       "    </tr>\n",
       "  </tbody>\n",
       "</table>\n",
       "</div>"
      ],
      "text/plain": [
       "  Acronym Trial Balance          Entity\n",
       "0     ABC        34-ABC  ABC Subsidiary\n",
       "1     DEF        34-DEF  DEF Subsidiary\n",
       "2     GHI        34-GHI  GHI Subsidiary\n",
       "3     JKL        34-GPD  JKL Subsidiary\n",
       "4     MNO        34-MNO  MNO Subsidiary"
      ]
     },
     "execution_count": 15,
     "metadata": {},
     "output_type": "execute_result"
    }
   ],
   "source": [
    "df_keys = pd.read_excel('account_keys.xlsx')\n",
    "df_keys.head()"
   ]
  },
  {
   "cell_type": "code",
   "execution_count": 16,
   "id": "4c0cea22-429a-4823-b05a-bdec8176f25f",
   "metadata": {},
   "outputs": [
    {
     "data": {
      "text/plain": [
       "{'ABC Subsidiary.xlsx': '.ABC', 'DEF Subsidiary.xlsx': '.DEF'}"
      ]
     },
     "execution_count": 16,
     "metadata": {},
     "output_type": "execute_result"
    }
   ],
   "source": [
    "entity_dict = create_entity_dict(df_keys, entity_column='Entity', suffix_column='Acronym')\n",
    "entity_dict"
   ]
  },
  {
   "cell_type": "markdown",
   "id": "e5d359fa-ac87-40b1-ba85-32722314bdcc",
   "metadata": {},
   "source": [
    "### Format and Export TBs"
   ]
  },
  {
   "cell_type": "code",
   "execution_count": 19,
   "id": "4b419f2a-2dd7-4ad4-8f55-c330e3553b55",
   "metadata": {},
   "outputs": [
    {
     "name": "stdout",
     "output_type": "stream",
     "text": [
      "formatting ABC Subsidiary.xlsx\n",
      "formatted_tb_ABC Subsidiary.xlsx successfully created\n",
      "formatting DEF Subsidiary.xlsx\n",
      "formatted_tb_DEF Subsidiary.xlsx successfully created\n"
     ]
    }
   ],
   "source": [
    "format_tbs(entity_dict)"
   ]
  },
  {
   "cell_type": "markdown",
   "id": "b765d4fe-3571-473e-8f9f-a228d0d693a2",
   "metadata": {
    "tags": []
   },
   "source": [
    "## Part 2:"
   ]
  },
  {
   "cell_type": "markdown",
   "id": "f189d6d0-d888-4731-b501-5d5698953c23",
   "metadata": {},
   "source": [
    "Move files back to current directory"
   ]
  },
  {
   "cell_type": "code",
   "execution_count": 12,
   "id": "8e7f0c38-a7db-4eab-95e8-3324407798a6",
   "metadata": {},
   "outputs": [],
   "source": [
    "for file in entity_dict:\n",
    "    if file not in os.listdir():\n",
    "        os.rename(f'./processed_quickbooks_files/{file}', f'./quickbooks_data/{file}')"
   ]
  },
  {
   "cell_type": "markdown",
   "id": "8d8f0270",
   "metadata": {
    "tags": []
   },
   "source": [
    "### Create a DataFrame from the Excel File containing Account Suffixes (Acronyms)\n",
    "\n",
    "This excel file will need at least the two following columns:\n",
    "\n",
    "|Suffix|Entity|\n",
    "|---|---|\n",
    "|ABC|ABC Subsidiary|\n",
    "|DEF|DEF Subsidiary|\n",
    "|...|...|\n",
    "\n",
    "The **Suffix** column will be needed for appending account suffixes to account numbers before consolidation. General Ledger account numbers are typically repeated across subsidiaries of a parent corporation, thus it is necessary to append a unique suffix to the existing GL account numbers so that accounts belong to different subsidiaries can be differentiated while the root account numbers are still preserved for the sake of consistent account grouping and sub-grouping after consolidation.\n",
    "\n",
    "The **Entity** Column will be used to generate dataframes for every trial balance excel file that is in the same folder as your jupyter notebook. ***It is imperitive that the values in the 'Entity' column match the names of the excel files EXACTLY (minus the .xlsx extension) for the code in this notebook to work properly.*** Best practice is to copy an paste directly from this list of Entities and rename your files as you gather QuickBooks export files for a given client.\n"
   ]
  },
  {
   "cell_type": "code",
   "execution_count": 13,
   "id": "c76e95b0",
   "metadata": {
    "scrolled": true
   },
   "outputs": [
    {
     "data": {
      "text/html": [
       "<div>\n",
       "<style scoped>\n",
       "    .dataframe tbody tr th:only-of-type {\n",
       "        vertical-align: middle;\n",
       "    }\n",
       "\n",
       "    .dataframe tbody tr th {\n",
       "        vertical-align: top;\n",
       "    }\n",
       "\n",
       "    .dataframe thead th {\n",
       "        text-align: right;\n",
       "    }\n",
       "</style>\n",
       "<table border=\"1\" class=\"dataframe\">\n",
       "  <thead>\n",
       "    <tr style=\"text-align: right;\">\n",
       "      <th></th>\n",
       "      <th>Acronym</th>\n",
       "      <th>Trial Balance</th>\n",
       "      <th>Entity</th>\n",
       "    </tr>\n",
       "  </thead>\n",
       "  <tbody>\n",
       "    <tr>\n",
       "      <th>0</th>\n",
       "      <td>ABC</td>\n",
       "      <td>34-ABC</td>\n",
       "      <td>ABC Subsidiary</td>\n",
       "    </tr>\n",
       "    <tr>\n",
       "      <th>1</th>\n",
       "      <td>DEF</td>\n",
       "      <td>34-DEF</td>\n",
       "      <td>DEF Subsidiary</td>\n",
       "    </tr>\n",
       "    <tr>\n",
       "      <th>2</th>\n",
       "      <td>GHI</td>\n",
       "      <td>34-GHI</td>\n",
       "      <td>GHI Subsidiary</td>\n",
       "    </tr>\n",
       "    <tr>\n",
       "      <th>3</th>\n",
       "      <td>JKL</td>\n",
       "      <td>34-GPD</td>\n",
       "      <td>JKL Subsidiary</td>\n",
       "    </tr>\n",
       "    <tr>\n",
       "      <th>4</th>\n",
       "      <td>MNO</td>\n",
       "      <td>34-MNO</td>\n",
       "      <td>MNO Subsidiary</td>\n",
       "    </tr>\n",
       "  </tbody>\n",
       "</table>\n",
       "</div>"
      ],
      "text/plain": [
       "  Acronym Trial Balance          Entity\n",
       "0     ABC        34-ABC  ABC Subsidiary\n",
       "1     DEF        34-DEF  DEF Subsidiary\n",
       "2     GHI        34-GHI  GHI Subsidiary\n",
       "3     JKL        34-GPD  JKL Subsidiary\n",
       "4     MNO        34-MNO  MNO Subsidiary"
      ]
     },
     "execution_count": 13,
     "metadata": {},
     "output_type": "execute_result"
    }
   ],
   "source": [
    "# Create a DataFrame from the account_keys.xlsx file that contains my entity names and account suffixes\n",
    "df_account_keys = pd.read_excel('account_keys.xlsx')\n",
    "\n",
    "df_account_keys.head()"
   ]
  },
  {
   "cell_type": "markdown",
   "id": "0045fbd4-83aa-493c-90a3-fafd27c44119",
   "metadata": {},
   "source": [
    "As you see in the first few rows of the dataframe that was just created, if you are working with a pre-existing list used for formatting trial balances in excel, you may have a column with the CCH Engagement Binder Index. In fact, in many cases you may only have this index column with data in the format '34-ABC'. It is good practice to use these same indexes as the suffixes for you GL account numbers for the sake of consistency. To extract the 3 character suffix from the end on the Trial Balance Index, we will use the .split() method and assign the output to a new column."
   ]
  },
  {
   "cell_type": "code",
   "execution_count": 14,
   "id": "e1f11231-3ab7-4590-9d7e-f8d5a6503e9d",
   "metadata": {},
   "outputs": [
    {
     "data": {
      "text/plain": [
       "0     [34, ABC]\n",
       "1     [34, DEF]\n",
       "2     [34, GHI]\n",
       "3     [34, GPD]\n",
       "4     [34, MNO]\n",
       "5     [34, PQR]\n",
       "6     [34, STU]\n",
       "7     [34, VWX]\n",
       "8      [34, YZ]\n",
       "9     [34, 123]\n",
       "10    [34, 234]\n",
       "11    [34, 345]\n",
       "12    [34, 456]\n",
       "13    [34, 567]\n",
       "14    [34, 678]\n",
       "15    [34, 789]\n",
       "16    [34, 890]\n",
       "17    [34, 999]\n",
       "Name: Trial Balance, dtype: object"
      ]
     },
     "execution_count": 14,
     "metadata": {},
     "output_type": "execute_result"
    }
   ],
   "source": [
    "# Call the .str.split() method on the column you want to split, and pass '-' as the argument\n",
    "suffix_list = df_account_keys['Trial Balance'].str.split('-')\n",
    "\n",
    "# .split() method will output a series of lists of strings split on every instance of the '-'\n",
    "suffix_list"
   ]
  },
  {
   "cell_type": "code",
   "execution_count": 15,
   "id": "56226040-5498-471e-92ab-89bf76e0717a",
   "metadata": {},
   "outputs": [
    {
     "name": "stdout",
     "output_type": "stream",
     "text": [
      "ABC\n",
      "DEF\n",
      "GHI\n",
      "GPD\n",
      "MNO\n",
      "PQR\n",
      "STU\n",
      "VWX\n",
      "YZ\n",
      "123\n",
      "234\n",
      "345\n",
      "456\n",
      "567\n",
      "678\n",
      "789\n",
      "890\n",
      "999\n"
     ]
    }
   ],
   "source": [
    "# Access the second item in each list by indexing x[1] for each list inside of the series (python indexes start at 0)\n",
    "for x in suffix_list:\n",
    "    print(x[1])"
   ]
  },
  {
   "cell_type": "code",
   "execution_count": 16,
   "id": "be24dd5a-b6de-4f43-8e30-3b34736989e1",
   "metadata": {},
   "outputs": [
    {
     "data": {
      "text/html": [
       "<div>\n",
       "<style scoped>\n",
       "    .dataframe tbody tr th:only-of-type {\n",
       "        vertical-align: middle;\n",
       "    }\n",
       "\n",
       "    .dataframe tbody tr th {\n",
       "        vertical-align: top;\n",
       "    }\n",
       "\n",
       "    .dataframe thead th {\n",
       "        text-align: right;\n",
       "    }\n",
       "</style>\n",
       "<table border=\"1\" class=\"dataframe\">\n",
       "  <thead>\n",
       "    <tr style=\"text-align: right;\">\n",
       "      <th></th>\n",
       "      <th>Acronym</th>\n",
       "      <th>Trial Balance</th>\n",
       "      <th>Entity</th>\n",
       "      <th>Suffixes</th>\n",
       "    </tr>\n",
       "  </thead>\n",
       "  <tbody>\n",
       "    <tr>\n",
       "      <th>0</th>\n",
       "      <td>ABC</td>\n",
       "      <td>34-ABC</td>\n",
       "      <td>ABC Subsidiary</td>\n",
       "      <td>ABC</td>\n",
       "    </tr>\n",
       "    <tr>\n",
       "      <th>1</th>\n",
       "      <td>DEF</td>\n",
       "      <td>34-DEF</td>\n",
       "      <td>DEF Subsidiary</td>\n",
       "      <td>DEF</td>\n",
       "    </tr>\n",
       "    <tr>\n",
       "      <th>2</th>\n",
       "      <td>GHI</td>\n",
       "      <td>34-GHI</td>\n",
       "      <td>GHI Subsidiary</td>\n",
       "      <td>GHI</td>\n",
       "    </tr>\n",
       "    <tr>\n",
       "      <th>3</th>\n",
       "      <td>JKL</td>\n",
       "      <td>34-GPD</td>\n",
       "      <td>JKL Subsidiary</td>\n",
       "      <td>GPD</td>\n",
       "    </tr>\n",
       "    <tr>\n",
       "      <th>4</th>\n",
       "      <td>MNO</td>\n",
       "      <td>34-MNO</td>\n",
       "      <td>MNO Subsidiary</td>\n",
       "      <td>MNO</td>\n",
       "    </tr>\n",
       "  </tbody>\n",
       "</table>\n",
       "</div>"
      ],
      "text/plain": [
       "  Acronym Trial Balance          Entity Suffixes\n",
       "0     ABC        34-ABC  ABC Subsidiary      ABC\n",
       "1     DEF        34-DEF  DEF Subsidiary      DEF\n",
       "2     GHI        34-GHI  GHI Subsidiary      GHI\n",
       "3     JKL        34-GPD  JKL Subsidiary      GPD\n",
       "4     MNO        34-MNO  MNO Subsidiary      MNO"
      ]
     },
     "execution_count": 16,
     "metadata": {},
     "output_type": "execute_result"
    }
   ],
   "source": [
    "# If you index the lists as they are created inside of a list comprehension, you can avoid the creation of the series altogether and assign the second value directly to new column in the dataframe\n",
    "# We'll call that new column 'Suffixes'\n",
    "\n",
    "df_account_keys['Suffixes'] = [x[1] for x in df_account_keys['Trial Balance'].str.split('-')]\n",
    "df_account_keys.head()"
   ]
  },
  {
   "cell_type": "markdown",
   "id": "cdec46e5-6b59-4706-8111-b92093d012a6",
   "metadata": {},
   "source": [
    "***We'll be doing lots of splitting later, we can take this one step further and create a helper function that will allow us to choose a column to split, tell it which item in the resulting list we want, and the name of the new column that we want to create.***"
   ]
  },
  {
   "cell_type": "code",
   "execution_count": 25,
   "id": "ab26caa2-34d4-498b-9c3b-df8b8ef03d51",
   "metadata": {},
   "outputs": [],
   "source": [
    "# Define a function that takes 4 arguments:df, column to split, delimiter to split on, and index of the item we want from the .split() method\n",
    "# Set index default to -1 if no argument is given to select the last item in the list\n",
    "\n",
    "def new_col_from_split(df, split_col, delim, index = -1):\n",
    "    return [x[index] for x in df[split_col].astype(str).str.split(delim)]"
   ]
  },
  {
   "cell_type": "code",
   "execution_count": 18,
   "id": "53c4ba8e-69b7-4c93-8d99-983d42bc52ee",
   "metadata": {},
   "outputs": [
    {
     "data": {
      "text/html": [
       "<div>\n",
       "<style scoped>\n",
       "    .dataframe tbody tr th:only-of-type {\n",
       "        vertical-align: middle;\n",
       "    }\n",
       "\n",
       "    .dataframe tbody tr th {\n",
       "        vertical-align: top;\n",
       "    }\n",
       "\n",
       "    .dataframe thead th {\n",
       "        text-align: right;\n",
       "    }\n",
       "</style>\n",
       "<table border=\"1\" class=\"dataframe\">\n",
       "  <thead>\n",
       "    <tr style=\"text-align: right;\">\n",
       "      <th></th>\n",
       "      <th>Acronym</th>\n",
       "      <th>Trial Balance</th>\n",
       "      <th>Entity</th>\n",
       "      <th>Suffixes</th>\n",
       "      <th>Suffix_2</th>\n",
       "    </tr>\n",
       "  </thead>\n",
       "  <tbody>\n",
       "    <tr>\n",
       "      <th>0</th>\n",
       "      <td>ABC</td>\n",
       "      <td>34-ABC</td>\n",
       "      <td>ABC Subsidiary</td>\n",
       "      <td>ABC</td>\n",
       "      <td>ABC</td>\n",
       "    </tr>\n",
       "    <tr>\n",
       "      <th>1</th>\n",
       "      <td>DEF</td>\n",
       "      <td>34-DEF</td>\n",
       "      <td>DEF Subsidiary</td>\n",
       "      <td>DEF</td>\n",
       "      <td>DEF</td>\n",
       "    </tr>\n",
       "    <tr>\n",
       "      <th>2</th>\n",
       "      <td>GHI</td>\n",
       "      <td>34-GHI</td>\n",
       "      <td>GHI Subsidiary</td>\n",
       "      <td>GHI</td>\n",
       "      <td>GHI</td>\n",
       "    </tr>\n",
       "    <tr>\n",
       "      <th>3</th>\n",
       "      <td>JKL</td>\n",
       "      <td>34-GPD</td>\n",
       "      <td>JKL Subsidiary</td>\n",
       "      <td>GPD</td>\n",
       "      <td>GPD</td>\n",
       "    </tr>\n",
       "    <tr>\n",
       "      <th>4</th>\n",
       "      <td>MNO</td>\n",
       "      <td>34-MNO</td>\n",
       "      <td>MNO Subsidiary</td>\n",
       "      <td>MNO</td>\n",
       "      <td>MNO</td>\n",
       "    </tr>\n",
       "  </tbody>\n",
       "</table>\n",
       "</div>"
      ],
      "text/plain": [
       "  Acronym Trial Balance          Entity Suffixes Suffix_2\n",
       "0     ABC        34-ABC  ABC Subsidiary      ABC      ABC\n",
       "1     DEF        34-DEF  DEF Subsidiary      DEF      DEF\n",
       "2     GHI        34-GHI  GHI Subsidiary      GHI      GHI\n",
       "3     JKL        34-GPD  JKL Subsidiary      GPD      GPD\n",
       "4     MNO        34-MNO  MNO Subsidiary      MNO      MNO"
      ]
     },
     "execution_count": 18,
     "metadata": {},
     "output_type": "execute_result"
    }
   ],
   "source": [
    "# Assign the output of the function to a new column\n",
    "df_account_keys['Suffix_2'] = new_col_from_split(df_account_keys, 'Trial Balance', '-') \n",
    "\n",
    "df_account_keys.head()"
   ]
  },
  {
   "cell_type": "markdown",
   "id": "651d25ea-9cf0-46bc-83fc-4ce439d17c01",
   "metadata": {},
   "source": [
    "### Create Dictionary of Files to Format and Suffixes to Add to Account Numbers"
   ]
  },
  {
   "cell_type": "code",
   "execution_count": 33,
   "id": "5efdea05-6f69-497f-bd84-02ec424b484d",
   "metadata": {},
   "outputs": [],
   "source": [
    "# create empty dictionary to store excel file names and suffixes\n",
    "entity_dictionary = {}\n",
    "\n",
    "# loop through Entity column and Suffixes column of df_account_keys using .zip() method:\n",
    "for entity, suffix in zip(df_account_keys['Entity'], df_account_keys['Suffixes']):\n",
    "    \n",
    "    # check if the excel file for each entity is in the working directory\n",
    "    if entity + '.xlsx' in os.listdir():\n",
    "        \n",
    "        # add excel file names as keys and suffixes as values to entity_dict\n",
    "        entity_dictionary.update({entity + '.xlsx': '.' + suffix})\n",
    "        \n",
    "        "
   ]
  },
  {
   "cell_type": "code",
   "execution_count": 34,
   "id": "296cf638-8f36-401f-ba0b-6beb6b9f7a92",
   "metadata": {},
   "outputs": [
    {
     "data": {
      "text/plain": [
       "{'ABC Subsidiary.xlsx': '.ABC', 'DEF Subsidiary.xlsx': '.DEF'}"
      ]
     },
     "execution_count": 34,
     "metadata": {},
     "output_type": "execute_result"
    }
   ],
   "source": [
    "# View entries in entity_dictionary\n",
    "entity_dictionary"
   ]
  },
  {
   "cell_type": "markdown",
   "id": "1bd6004f-9ca1-46c5-8873-1307fdfadc08",
   "metadata": {},
   "source": [
    "***Refactoring the above for loop as a function that takes a dataframe and the columns that contain the entities and suffixes will make the code easier to reuse. It is also a good opportunity to use a dictionary comprehension to make the code more concise.***"
   ]
  },
  {
   "cell_type": "code",
   "execution_count": null,
   "id": "434585b0-2a28-4d25-8f46-961dca3f36a1",
   "metadata": {},
   "outputs": [],
   "source": [
    "# Takes 4 arguments: df, entity_column ('string'), suffix_column ('string'), file_list (can take any iterable, but defaults to a list of the current directory)\n",
    "def create_entity_dict(df, entity_column, suffix_column, file_list=os.listdir()):\n",
    "    return {entity + '.xlsx': '.' + suffix for entity, suffix in zip(df[entity_column], df[suffix_column]) if entity + '.xlsx' in file_list}"
   ]
  },
  {
   "cell_type": "markdown",
   "id": "8cff155e-2dfa-4355-a8c8-5743633a6cbb",
   "metadata": {},
   "source": [
    "### Use os library to create a list of files to format and create folders to store finished files\n",
    "#### Create New Folders:\n",
    "\n",
    "os.mkdir() will be used to make new folders to store processed files to keep everything organized. If the folder already exists, an error will be thrown. To avoid this, first use an if statement to check if the folders already exist iterating through os.listdir()"
   ]
  },
  {
   "cell_type": "code",
   "execution_count": 20,
   "id": "92908af1-4f31-4762-b8d7-7a9f18134dd8",
   "metadata": {},
   "outputs": [],
   "source": [
    "# Check that folder is not in the current directory\n",
    "if 'ready_for_import' not in os.listdir():\n",
    "    \n",
    "    # Create import folder\n",
    "    os.mkdir('./ready_for_import')"
   ]
  },
  {
   "cell_type": "code",
   "execution_count": 21,
   "id": "f63ce6da-549e-426d-b094-a3d76d1266c4",
   "metadata": {},
   "outputs": [],
   "source": [
    "# Check that folder is not in the current directory\n",
    "if 'import_file_created' not in os.listdir():\n",
    "    \n",
    "    # Create folder for processed QuickBook files\n",
    "    os.mkdir('./import_file_created')"
   ]
  },
  {
   "cell_type": "markdown",
   "id": "fb405c35",
   "metadata": {},
   "source": [
    "### Import one trial balance file to see data format"
   ]
  },
  {
   "cell_type": "code",
   "execution_count": 23,
   "id": "d33c4821-b50d-436f-96bc-3e9d5e8cd2d1",
   "metadata": {},
   "outputs": [
    {
     "data": {
      "text/html": [
       "<div>\n",
       "<style scoped>\n",
       "    .dataframe tbody tr th:only-of-type {\n",
       "        vertical-align: middle;\n",
       "    }\n",
       "\n",
       "    .dataframe tbody tr th {\n",
       "        vertical-align: top;\n",
       "    }\n",
       "\n",
       "    .dataframe thead th {\n",
       "        text-align: right;\n",
       "    }\n",
       "</style>\n",
       "<table border=\"1\" class=\"dataframe\">\n",
       "  <thead>\n",
       "    <tr style=\"text-align: right;\">\n",
       "      <th></th>\n",
       "      <th>Unnamed: 0</th>\n",
       "      <th>Unnamed: 1</th>\n",
       "      <th>Debit</th>\n",
       "      <th>Unnamed: 3</th>\n",
       "      <th>Credit</th>\n",
       "    </tr>\n",
       "  </thead>\n",
       "  <tbody>\n",
       "    <tr>\n",
       "      <th>0</th>\n",
       "      <td>NaN</td>\n",
       "      <td>1010 · Example Bank - Business Banking</td>\n",
       "      <td>700.0</td>\n",
       "      <td>NaN</td>\n",
       "      <td>NaN</td>\n",
       "    </tr>\n",
       "    <tr>\n",
       "      <th>1</th>\n",
       "      <td>NaN</td>\n",
       "      <td>1250 · Accounts Receivable</td>\n",
       "      <td>0.0</td>\n",
       "      <td>NaN</td>\n",
       "      <td>NaN</td>\n",
       "    </tr>\n",
       "    <tr>\n",
       "      <th>2</th>\n",
       "      <td>NaN</td>\n",
       "      <td>12000 · Undeposited Funds</td>\n",
       "      <td>0.0</td>\n",
       "      <td>NaN</td>\n",
       "      <td>NaN</td>\n",
       "    </tr>\n",
       "    <tr>\n",
       "      <th>3</th>\n",
       "      <td>NaN</td>\n",
       "      <td>1261 · Loan Receivable - ABC</td>\n",
       "      <td>10000000.0</td>\n",
       "      <td>NaN</td>\n",
       "      <td>NaN</td>\n",
       "    </tr>\n",
       "    <tr>\n",
       "      <th>4</th>\n",
       "      <td>NaN</td>\n",
       "      <td>20100 · Due To/(From) Related Entities:20102 ·...</td>\n",
       "      <td>NaN</td>\n",
       "      <td>NaN</td>\n",
       "      <td>30000.0</td>\n",
       "    </tr>\n",
       "  </tbody>\n",
       "</table>\n",
       "</div>"
      ],
      "text/plain": [
       "  Unnamed: 0                                         Unnamed: 1       Debit  \\\n",
       "0        NaN            1010 · Example Bank - Business Banking        700.0   \n",
       "1        NaN                         1250 · Accounts Receivable         0.0   \n",
       "2        NaN                          12000 · Undeposited Funds         0.0   \n",
       "3        NaN                       1261 · Loan Receivable - ABC  10000000.0   \n",
       "4        NaN  20100 · Due To/(From) Related Entities:20102 ·...         NaN   \n",
       "\n",
       "   Unnamed: 3   Credit  \n",
       "0         NaN      NaN  \n",
       "1         NaN      NaN  \n",
       "2         NaN      NaN  \n",
       "3         NaN      NaN  \n",
       "4         NaN  30000.0  "
      ]
     },
     "execution_count": 23,
     "metadata": {},
     "output_type": "execute_result"
    }
   ],
   "source": [
    "# Import ABC Subsidiary.xlsx\n",
    "abc_df = pd.read_excel('ABC Subsidiary.xlsx', sheet_name='Sheet1', skiprows=4)\n",
    "\n",
    "# View first five rows\n",
    "abc_df.head()"
   ]
  },
  {
   "cell_type": "code",
   "execution_count": 24,
   "id": "631148b0-d166-4961-ba2d-463a7c3ad20f",
   "metadata": {},
   "outputs": [
    {
     "data": {
      "text/html": [
       "<div>\n",
       "<style scoped>\n",
       "    .dataframe tbody tr th:only-of-type {\n",
       "        vertical-align: middle;\n",
       "    }\n",
       "\n",
       "    .dataframe tbody tr th {\n",
       "        vertical-align: top;\n",
       "    }\n",
       "\n",
       "    .dataframe thead th {\n",
       "        text-align: right;\n",
       "    }\n",
       "</style>\n",
       "<table border=\"1\" class=\"dataframe\">\n",
       "  <thead>\n",
       "    <tr style=\"text-align: right;\">\n",
       "      <th></th>\n",
       "      <th>Unnamed: 0</th>\n",
       "      <th>Unnamed: 1</th>\n",
       "      <th>Debit</th>\n",
       "      <th>Unnamed: 3</th>\n",
       "      <th>Credit</th>\n",
       "    </tr>\n",
       "  </thead>\n",
       "  <tbody>\n",
       "    <tr>\n",
       "      <th>6</th>\n",
       "      <td>NaN</td>\n",
       "      <td>30300 · Capital Account - Jeff:30302 · Member ...</td>\n",
       "      <td>100000.0</td>\n",
       "      <td>NaN</td>\n",
       "      <td>NaN</td>\n",
       "    </tr>\n",
       "    <tr>\n",
       "      <th>7</th>\n",
       "      <td>NaN</td>\n",
       "      <td>60400 · Bank Service Charges</td>\n",
       "      <td>200.0</td>\n",
       "      <td>NaN</td>\n",
       "      <td>NaN</td>\n",
       "    </tr>\n",
       "    <tr>\n",
       "      <th>8</th>\n",
       "      <td>NaN</td>\n",
       "      <td>67300 · Management Fee Exp.</td>\n",
       "      <td>30000.0</td>\n",
       "      <td>NaN</td>\n",
       "      <td>NaN</td>\n",
       "    </tr>\n",
       "    <tr>\n",
       "      <th>9</th>\n",
       "      <td>NaN</td>\n",
       "      <td>70000 · Interest Income</td>\n",
       "      <td>NaN</td>\n",
       "      <td>NaN</td>\n",
       "      <td>100900.0</td>\n",
       "    </tr>\n",
       "    <tr>\n",
       "      <th>10</th>\n",
       "      <td>TOTAL</td>\n",
       "      <td>NaN</td>\n",
       "      <td>10130900.0</td>\n",
       "      <td>NaN</td>\n",
       "      <td>10130900.0</td>\n",
       "    </tr>\n",
       "  </tbody>\n",
       "</table>\n",
       "</div>"
      ],
      "text/plain": [
       "   Unnamed: 0                                         Unnamed: 1       Debit  \\\n",
       "6         NaN  30300 · Capital Account - Jeff:30302 · Member ...    100000.0   \n",
       "7         NaN                       60400 · Bank Service Charges       200.0   \n",
       "8         NaN                        67300 · Management Fee Exp.     30000.0   \n",
       "9         NaN                            70000 · Interest Income         NaN   \n",
       "10      TOTAL                                                NaN  10130900.0   \n",
       "\n",
       "    Unnamed: 3      Credit  \n",
       "6          NaN         NaN  \n",
       "7          NaN         NaN  \n",
       "8          NaN         NaN  \n",
       "9          NaN    100900.0  \n",
       "10         NaN  10130900.0  "
      ]
     },
     "execution_count": 24,
     "metadata": {},
     "output_type": "execute_result"
    }
   ],
   "source": [
    "# View last 5 rows\n",
    "abc_df.iloc[-5:]"
   ]
  },
  {
   "cell_type": "code",
   "execution_count": 20,
   "id": "50e8b6c3",
   "metadata": {},
   "outputs": [],
   "source": [
    "\n",
    "def create_entity_dict(df, entity_column, suffix_column, file_list=os.listdir()):\n",
    "    return {x + '.xlsx': '.' + y for x, y in zip(df[entity_column], df[suffix_column]) if x + '.xlsx' in file_list}"
   ]
  },
  {
   "cell_type": "code",
   "execution_count": 21,
   "id": "613e9757",
   "metadata": {},
   "outputs": [],
   "source": [
    "\n",
    "def format_tbs(entities):\n",
    "    for entity, suffix in entities.items():\n",
    "        \n",
    "        #Print statement to help with debugging if one of the QuickBooks files is formatted differently\n",
    "        print(f'formatting {entity}')\n",
    "        \n",
    "        #Create a dataframe from the QuickBooks export file\n",
    "        df = pd.read_excel(entity, sheet_name='Sheet1', skiprows=4)\n",
    "        \n",
    "        #Drop the unneeded Total row\n",
    "        if 'total' in df.iloc[len(df) - 1, 0].lower():\n",
    "            df.drop(index=len(df) - 1, inplace=True)\n",
    "            \n",
    "        #Replace nan values with 0 \n",
    "        df.fillna(0, inplace=True)\n",
    "        \n",
    "        #Split combined name and account coloumn into separate name and account column, adding the suffix to the end of the account numbers.\n",
    "       \n",
    "        df['_col'] = new_col_from_split(df, 'Unnamed: 1', ':')\n",
    "        df['account_number'] = [account + suffix for account  in new_col_from_split(df, '_col', ' · ', index=0)]\n",
    "        df['account_name'] = new_col_from_split(df, '_col', ' · ')\n",
    "        \n",
    "        #Combine debit and credit columns into a single balance column\n",
    "        df['balance'] = df['Debit'] - df['Credit']\n",
    "        \n",
    "        #export account number, account name, and balance columns to a new excel file\n",
    "        df[['account_number', 'account_name', 'balance']].to_excel(f'formatted_tb_{entity}', index=False)\n",
    "        \n",
    "        \n",
    "        print(f'formatted_tb_{entity} successfully created')\n",
    "        \n",
    "        \n",
    "        "
   ]
  },
  {
   "cell_type": "code",
   "execution_count": 22,
   "id": "934ddb93-99c1-4e0c-877d-f53240ec6ef2",
   "metadata": {},
   "outputs": [
    {
     "data": {
      "text/plain": [
       "{'ABC Subsidiary.xlsx': '.ABC', 'DEF Subsidiary.xlsx': '.DEF'}"
      ]
     },
     "execution_count": 22,
     "metadata": {},
     "output_type": "execute_result"
    }
   ],
   "source": [
    "entity_dict = create_entity_dict(df_account_keys, 'Entity', 'Suffixes')\n",
    "entity_dict"
   ]
  },
  {
   "cell_type": "code",
   "execution_count": 23,
   "id": "76774616-918e-4be0-9386-e60e2f94e2d8",
   "metadata": {},
   "outputs": [
    {
     "name": "stdout",
     "output_type": "stream",
     "text": [
      "formatting ABC Subsidiary.xlsx\n",
      "formatted_tb_ABC Subsidiary.xlsx successfully created\n",
      "formatting DEF Subsidiary.xlsx\n",
      "formatted_tb_DEF Subsidiary.xlsx successfully created\n"
     ]
    }
   ],
   "source": [
    "format_tbs(entity_dict)"
   ]
  },
  {
   "cell_type": "code",
   "execution_count": 31,
   "id": "5c14c652-ddc8-474d-88fd-30870e691925",
   "metadata": {},
   "outputs": [],
   "source": [
    "os.rename('./ABC Subsidiary.xlsx', './import_file_created/ABC Subsidiary.xlsx')"
   ]
  },
  {
   "cell_type": "code",
   "execution_count": null,
   "id": "4d5a52ef-509a-46a3-97d1-9eac92f92474",
   "metadata": {},
   "outputs": [],
   "source": []
  }
 ],
 "metadata": {
  "kernelspec": {
   "display_name": "Python 3 (ipykernel)",
   "language": "python",
   "name": "python3"
  },
  "language_info": {
   "codemirror_mode": {
    "name": "ipython",
    "version": 3
   },
   "file_extension": ".py",
   "mimetype": "text/x-python",
   "name": "python",
   "nbconvert_exporter": "python",
   "pygments_lexer": "ipython3",
   "version": "3.9.12"
  }
 },
 "nbformat": 4,
 "nbformat_minor": 5
}
