{
 "cells": [
  {
   "cell_type": "markdown",
   "id": "4fb35ecd-6910-4d36-b8ce-03c917953c57",
   "metadata": {},
   "source": [
    "# Trial Balance Formatting: Preparing QuickBooks Export Data for CCH Engagement\n",
    "\n",
    "## "
   ]
  },
  {
   "cell_type": "markdown",
   "id": "281b137e",
   "metadata": {
    "tags": []
   },
   "source": [
    "# Import Dependencies\n",
    "\n",
    "### The libraries used in this notebook are:\n",
    "* pandas (for processing tabular data from Excel)\n",
    "* os (for facilitating iteration through files in the working directory)"
   ]
  },
  {
   "cell_type": "code",
   "execution_count": 2,
   "id": "37f97567",
   "metadata": {},
   "outputs": [],
   "source": [
    "import pandas as pd\n",
    "import os"
   ]
  },
  {
   "cell_type": "markdown",
   "id": "8d8f0270",
   "metadata": {},
   "source": [
    "# Create a DataFrame from the Excel File containing Account Keys (Acronyms)"
   ]
  },
  {
   "cell_type": "code",
   "execution_count": 6,
   "id": "c76e95b0",
   "metadata": {
    "scrolled": true
   },
   "outputs": [
    {
     "data": {
      "text/html": [
       "<div>\n",
       "<style scoped>\n",
       "    .dataframe tbody tr th:only-of-type {\n",
       "        vertical-align: middle;\n",
       "    }\n",
       "\n",
       "    .dataframe tbody tr th {\n",
       "        vertical-align: top;\n",
       "    }\n",
       "\n",
       "    .dataframe thead th {\n",
       "        text-align: right;\n",
       "    }\n",
       "</style>\n",
       "<table border=\"1\" class=\"dataframe\">\n",
       "  <thead>\n",
       "    <tr style=\"text-align: right;\">\n",
       "      <th></th>\n",
       "      <th>Acronym</th>\n",
       "      <th>Trial Balance</th>\n",
       "      <th>Entity</th>\n",
       "    </tr>\n",
       "  </thead>\n",
       "  <tbody>\n",
       "    <tr>\n",
       "      <th>0</th>\n",
       "      <td>ABC</td>\n",
       "      <td>34-ABC</td>\n",
       "      <td>ABC Subsidiary</td>\n",
       "    </tr>\n",
       "    <tr>\n",
       "      <th>1</th>\n",
       "      <td>DEF</td>\n",
       "      <td>34-DEF</td>\n",
       "      <td>DEF Subsidiary</td>\n",
       "    </tr>\n",
       "    <tr>\n",
       "      <th>2</th>\n",
       "      <td>GHI</td>\n",
       "      <td>34-GHI</td>\n",
       "      <td>GHI Subsidiary</td>\n",
       "    </tr>\n",
       "    <tr>\n",
       "      <th>3</th>\n",
       "      <td>JKL</td>\n",
       "      <td>34-GPD</td>\n",
       "      <td>JKL Subsidiary</td>\n",
       "    </tr>\n",
       "    <tr>\n",
       "      <th>4</th>\n",
       "      <td>MNO</td>\n",
       "      <td>34-MNO</td>\n",
       "      <td>MNO Subsidiary</td>\n",
       "    </tr>\n",
       "  </tbody>\n",
       "</table>\n",
       "</div>"
      ],
      "text/plain": [
       "  Acronym Trial Balance          Entity\n",
       "0     ABC        34-ABC  ABC Subsidiary\n",
       "1     DEF        34-DEF  DEF Subsidiary\n",
       "2     GHI        34-GHI  GHI Subsidiary\n",
       "3     JKL        34-GPD  JKL Subsidiary\n",
       "4     MNO        34-MNO  MNO Subsidiary"
      ]
     },
     "execution_count": 6,
     "metadata": {},
     "output_type": "execute_result"
    }
   ],
   "source": [
    "df_account_keys = pd.read_excel('account_keys.xlsx')\n",
    "\n",
    "df_account_keys.head()"
   ]
  },
  {
   "cell_type": "markdown",
   "id": "fb405c35",
   "metadata": {},
   "source": [
    "# Create a List of all Files in the Current Directory"
   ]
  },
  {
   "cell_type": "code",
   "execution_count": 5,
   "id": "cf52aa91",
   "metadata": {},
   "outputs": [
    {
     "data": {
      "text/plain": [
       "['.ipynb_checkpoints',\n",
       " 'ABC Subsidiary.xlsx',\n",
       " 'account_keys.xlsx',\n",
       " 'DEF Subsidiary.xlsx',\n",
       " 'Example Company Trial Balance Imports.ipynb',\n",
       " 'formatted_tbs']"
      ]
     },
     "execution_count": 5,
     "metadata": {},
     "output_type": "execute_result"
    }
   ],
   "source": [
    "directory = os.listdir()\n",
    "directory"
   ]
  },
  {
   "cell_type": "code",
   "execution_count": 7,
   "id": "50e8b6c3",
   "metadata": {},
   "outputs": [],
   "source": [
    "def create_entity_list(file):\n",
    "    df = pd.read_excel(file)\n",
    "    directory = os.listdir()\n",
    "    return [x + '.xlsx' for x in df.Entity if x + '.xlsx' in directory]"
   ]
  },
  {
   "cell_type": "code",
   "execution_count": 8,
   "id": "613e9757",
   "metadata": {},
   "outputs": [],
   "source": [
    "def format_trial_balances(entity_list):\n",
    "    for entity in entity_list:\n",
    "        print(entity)\n",
    "        df = pd.read_excel(entity, sheet_name='Sheet1', skiprows=5, header=None)\n",
    "        df.rename(columns={\n",
    "                            1: 'name', \n",
    "                            2: 'debit',\n",
    "                            4: 'credit'\n",
    "                          })\n",
    "        "
   ]
  },
  {
   "cell_type": "code",
   "execution_count": 9,
   "id": "5f156712",
   "metadata": {},
   "outputs": [],
   "source": [
    "entities = create_entity_list('account_keys.xlsx')"
   ]
  },
  {
   "cell_type": "code",
   "execution_count": 10,
   "id": "0acefec9",
   "metadata": {},
   "outputs": [
    {
     "data": {
      "text/plain": [
       "['ABC Subsidiary.xlsx', 'DEF Subsidiary.xlsx']"
      ]
     },
     "execution_count": 10,
     "metadata": {},
     "output_type": "execute_result"
    }
   ],
   "source": [
    "entities"
   ]
  },
  {
   "cell_type": "code",
   "execution_count": null,
   "id": "65b1370b",
   "metadata": {},
   "outputs": [],
   "source": []
  }
 ],
 "metadata": {
  "kernelspec": {
   "display_name": "Python 3 (ipykernel)",
   "language": "python",
   "name": "python3"
  },
  "language_info": {
   "codemirror_mode": {
    "name": "ipython",
    "version": 3
   },
   "file_extension": ".py",
   "mimetype": "text/x-python",
   "name": "python",
   "nbconvert_exporter": "python",
   "pygments_lexer": "ipython3",
   "version": "3.9.12"
  }
 },
 "nbformat": 4,
 "nbformat_minor": 5
}
