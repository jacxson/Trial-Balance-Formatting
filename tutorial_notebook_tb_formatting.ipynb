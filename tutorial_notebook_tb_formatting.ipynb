{
 "cells": [
  {
   "cell_type": "markdown",
   "id": "2df37c0c-ec73-4899-a4c1-38eccc2f2b07",
   "metadata": {},
   "source": [
    "# Import Modules"
   ]
  },
  {
   "cell_type": "code",
   "execution_count": 108,
   "id": "2b713f41-9c47-4aa3-940f-a32ffae73795",
   "metadata": {},
   "outputs": [],
   "source": [
    "import pandas as pd\n",
    "import os"
   ]
  },
  {
   "cell_type": "markdown",
   "id": "f17abaf8-36c1-490f-82aa-ca4eefa6dd39",
   "metadata": {
    "tags": []
   },
   "source": [
    "# Preparing Directories\n",
    "* Before running any other code, make sure output folders are created to help keep everything organized. \n",
    "* use os.listdir() to generate a list of the working directory to check if folders already exist \n",
    "* use os.mkdir() to make new folders\n",
    "\n",
    "***tip: use an if statement to check if output folders already exist to avoid raising an error when you try to create a folder that already exists***"
   ]
  },
  {
   "cell_type": "code",
   "execution_count": 109,
   "id": "31cc2e60-bdd7-4976-b8fc-a845d369783c",
   "metadata": {},
   "outputs": [],
   "source": [
    "if 'ready_for_tb_import' not in os.listdir():\n",
    "    os.mkdir('./ready_for_tb_import/')\n",
    "\n",
    "if 'processed_quickbooks_files' not in os.listdir():\n",
    "    os.mkdir('./processed_quickbooks_files/')"
   ]
  },
  {
   "cell_type": "markdown",
   "id": "4859e0f1-f96a-4de1-89f8-a7aa9fdc37ef",
   "metadata": {
    "tags": []
   },
   "source": [
    "# Creating a Dictionary of Files to Format\n",
    "## You will need:\n",
    "1) An excel file with entity names that match the quickbooks file names (minus the .xlsx extension) and corresponding account suffixes to use for CCH Engagement\n",
    "2) All of your quickbooks data collected into a single folder within your working directory\n",
    "\n",
    "*if you need a refresher on why these suffixes are needed, see the project README file on github [Trial Balance Formatting](https://github.com/jacxson/Trial-Balance-Formatting)*\n",
    "\n",
    "## Steps:\n",
    "1) Create a dataframe from the excel file with entity names and suffixes (account_keys.xlsx)\n",
    "2) Create a list of files in the folder that has the excel files exported from quickbooks (./quickbooks_data/)\n",
    "3) Loop through the entities in the dataframe and compare it to the list of quickbooks files. Add any matches to a dictionary that contains the file name and the corresponding account suffix from the dataframe.\n",
    "\n"
   ]
  },
  {
   "cell_type": "markdown",
   "id": "1793a330-e6df-41a4-8443-e4ddd1edad1b",
   "metadata": {},
   "source": [
    "#### 1) Create dataframe of account_key.xlsx"
   ]
  },
  {
   "cell_type": "code",
   "execution_count": 110,
   "id": "b64794ce-f2b0-4749-8cb0-d7382a35b75b",
   "metadata": {},
   "outputs": [
    {
     "data": {
      "text/html": [
       "<div>\n",
       "<style scoped>\n",
       "    .dataframe tbody tr th:only-of-type {\n",
       "        vertical-align: middle;\n",
       "    }\n",
       "\n",
       "    .dataframe tbody tr th {\n",
       "        vertical-align: top;\n",
       "    }\n",
       "\n",
       "    .dataframe thead th {\n",
       "        text-align: right;\n",
       "    }\n",
       "</style>\n",
       "<table border=\"1\" class=\"dataframe\">\n",
       "  <thead>\n",
       "    <tr style=\"text-align: right;\">\n",
       "      <th></th>\n",
       "      <th>Acronym</th>\n",
       "      <th>Trial Balance</th>\n",
       "      <th>Entity</th>\n",
       "    </tr>\n",
       "  </thead>\n",
       "  <tbody>\n",
       "    <tr>\n",
       "      <th>0</th>\n",
       "      <td>ABC</td>\n",
       "      <td>34-ABC</td>\n",
       "      <td>ABC Subsidiary</td>\n",
       "    </tr>\n",
       "    <tr>\n",
       "      <th>1</th>\n",
       "      <td>DEF</td>\n",
       "      <td>34-DEF</td>\n",
       "      <td>DEF Subsidiary</td>\n",
       "    </tr>\n",
       "    <tr>\n",
       "      <th>2</th>\n",
       "      <td>GHI</td>\n",
       "      <td>34-GHI</td>\n",
       "      <td>GHI Subsidiary</td>\n",
       "    </tr>\n",
       "    <tr>\n",
       "      <th>3</th>\n",
       "      <td>JKL</td>\n",
       "      <td>34-GPD</td>\n",
       "      <td>JKL Subsidiary</td>\n",
       "    </tr>\n",
       "    <tr>\n",
       "      <th>4</th>\n",
       "      <td>MNO</td>\n",
       "      <td>34-MNO</td>\n",
       "      <td>MNO Subsidiary</td>\n",
       "    </tr>\n",
       "  </tbody>\n",
       "</table>\n",
       "</div>"
      ],
      "text/plain": [
       "  Acronym Trial Balance          Entity\n",
       "0     ABC        34-ABC  ABC Subsidiary\n",
       "1     DEF        34-DEF  DEF Subsidiary\n",
       "2     GHI        34-GHI  GHI Subsidiary\n",
       "3     JKL        34-GPD  JKL Subsidiary\n",
       "4     MNO        34-MNO  MNO Subsidiary"
      ]
     },
     "execution_count": 110,
     "metadata": {},
     "output_type": "execute_result"
    }
   ],
   "source": [
    "entities_df = pd.read_excel('account_keys.xlsx')\n",
    "\n",
    "# view first 5 rows\n",
    "entities_df.head()"
   ]
  },
  {
   "cell_type": "markdown",
   "id": "33ae3ea1-9fee-4ab3-92b5-b4b1db4d6ddd",
   "metadata": {},
   "source": [
    "#### 2. Create list of files in the quickbooks_data folder"
   ]
  },
  {
   "cell_type": "code",
   "execution_count": 111,
   "id": "47f404a9-83c2-41c0-8f2f-07405b1b798d",
   "metadata": {},
   "outputs": [],
   "source": [
    "data = os.listdir('./quickbooks_data/')"
   ]
  },
  {
   "cell_type": "markdown",
   "id": "82e6ac29-0ac4-4dd7-9c6c-d19a5e4e78df",
   "metadata": {},
   "source": [
    "#### 3) Loop through the entities in the dataframe and compare it to the list of quickbooks files. Add any matches to a dictionary that contains the file name and the corresponding account suffix from the dataframe.\n",
    "\n",
    "***tip: use the zip() function to loop through multiple dataframe columns simultaneously***"
   ]
  },
  {
   "cell_type": "code",
   "execution_count": 112,
   "id": "1606360b-4ab1-4351-a0d9-f053e07f930c",
   "metadata": {},
   "outputs": [
    {
     "data": {
      "text/plain": [
       "{'ABC Subsidiary.xlsx': '.ABC',\n",
       " 'DEF Subsidiary.xlsx': '.DEF',\n",
       " 'GHI Subsidiary.xlsx': '.GHI'}"
      ]
     },
     "execution_count": 112,
     "metadata": {},
     "output_type": "execute_result"
    }
   ],
   "source": [
    "# Create an empty dictionary\n",
    "entity_dict = {}\n",
    "\n",
    "# use zip() function to loop through entity names and suffixes in the entities dataframe simulaneously\n",
    "for entity, suffix in zip(entities_df['Entity'], entities_df['Acronym']):\n",
    "    \n",
    "    # if a match occurs between the files in the data list and the entities column, add the filename as key and the suffix as value to the empty dictionary\n",
    "    if entity + '.xlsx' in data:\n",
    "        entity_dict.update({f'{entity}.xlsx':f'.{suffix}'})\n",
    "        \n",
    "# view the entity_dict\n",
    "entity_dict"
   ]
  },
  {
   "cell_type": "markdown",
   "id": "bce4bc1f-7757-45ce-b8e3-6ff31b4fc6cc",
   "metadata": {
    "tags": []
   },
   "source": [
    "# Applying Formatting to a Single Excel File\n",
    "## Steps:\n",
    "1) Import a single excel file as a dataframe\n",
    "2) Drop the 'TOTAL' row\n",
    "3) Replace all null values with zeros\n",
    "4) Split account names and numbers into new separate columns\n",
    "5) Add suffixes to account numbers\n",
    "6) Combine debit and credit columns into a single balance column\n",
    "7) Export a dataframe of only account numbers, account names, and balances to a new excel file\n",
    "8) Move processed files to the appropriate output folder"
   ]
  },
  {
   "cell_type": "markdown",
   "id": "067ba795-07fb-43cb-9f8e-28367d08b927",
   "metadata": {
    "tags": []
   },
   "source": [
    "#### 1) Import a single excel file as a dataframe\n",
    "\n",
    "**Notes:**\n",
    "* QuickBooks exports typically have the default sheet of the workbook dedicated to tips on updating the report in excel. To access the data itself, you must specify sheet_name='Sheet1' as a keyword argument in the pandas.read_excel function, otherwise it will return an empty dataframe\n",
    "* QuickBooks exports also typically have the table starting on row 6 with headers on row 5. Pass skiprows=4 as a keyword argument in oder to read in the data correctly. "
   ]
  },
  {
   "cell_type": "code",
   "execution_count": 113,
   "id": "b6af0f96-ab49-461f-8722-4c02a0393276",
   "metadata": {},
   "outputs": [
    {
     "data": {
      "text/html": [
       "<div>\n",
       "<style scoped>\n",
       "    .dataframe tbody tr th:only-of-type {\n",
       "        vertical-align: middle;\n",
       "    }\n",
       "\n",
       "    .dataframe tbody tr th {\n",
       "        vertical-align: top;\n",
       "    }\n",
       "\n",
       "    .dataframe thead th {\n",
       "        text-align: right;\n",
       "    }\n",
       "</style>\n",
       "<table border=\"1\" class=\"dataframe\">\n",
       "  <thead>\n",
       "    <tr style=\"text-align: right;\">\n",
       "      <th></th>\n",
       "      <th>Unnamed: 0</th>\n",
       "      <th>Unnamed: 1</th>\n",
       "      <th>Debit</th>\n",
       "      <th>Unnamed: 3</th>\n",
       "      <th>Credit</th>\n",
       "    </tr>\n",
       "  </thead>\n",
       "  <tbody>\n",
       "    <tr>\n",
       "      <th>0</th>\n",
       "      <td>NaN</td>\n",
       "      <td>1010 · Example Bank - Business Banking</td>\n",
       "      <td>716.80</td>\n",
       "      <td>NaN</td>\n",
       "      <td>NaN</td>\n",
       "    </tr>\n",
       "    <tr>\n",
       "      <th>1</th>\n",
       "      <td>NaN</td>\n",
       "      <td>1210 · Cash In Transit</td>\n",
       "      <td>0.00</td>\n",
       "      <td>NaN</td>\n",
       "      <td>NaN</td>\n",
       "    </tr>\n",
       "    <tr>\n",
       "      <th>2</th>\n",
       "      <td>NaN</td>\n",
       "      <td>13010 · Land Held for Investment:13011 · Land ...</td>\n",
       "      <td>3561613.12</td>\n",
       "      <td>NaN</td>\n",
       "      <td>NaN</td>\n",
       "    </tr>\n",
       "    <tr>\n",
       "      <th>3</th>\n",
       "      <td>NaN</td>\n",
       "      <td>13010 · Land Held for Investment:13011 · Land ...</td>\n",
       "      <td>131260.00</td>\n",
       "      <td>NaN</td>\n",
       "      <td>NaN</td>\n",
       "    </tr>\n",
       "    <tr>\n",
       "      <th>4</th>\n",
       "      <td>NaN</td>\n",
       "      <td>13010 · Land Held for Investment:13011 · Land ...</td>\n",
       "      <td>48155.45</td>\n",
       "      <td>NaN</td>\n",
       "      <td>NaN</td>\n",
       "    </tr>\n",
       "  </tbody>\n",
       "</table>\n",
       "</div>"
      ],
      "text/plain": [
       "  Unnamed: 0                                         Unnamed: 1       Debit  \\\n",
       "0        NaN             1010 · Example Bank - Business Banking      716.80   \n",
       "1        NaN                             1210 · Cash In Transit        0.00   \n",
       "2        NaN  13010 · Land Held for Investment:13011 · Land ...  3561613.12   \n",
       "3        NaN  13010 · Land Held for Investment:13011 · Land ...   131260.00   \n",
       "4        NaN  13010 · Land Held for Investment:13011 · Land ...    48155.45   \n",
       "\n",
       "   Unnamed: 3  Credit  \n",
       "0         NaN     NaN  \n",
       "1         NaN     NaN  \n",
       "2         NaN     NaN  \n",
       "3         NaN     NaN  \n",
       "4         NaN     NaN  "
      ]
     },
     "execution_count": 113,
     "metadata": {},
     "output_type": "execute_result"
    }
   ],
   "source": [
    "abc = pd.read_excel('./quickbooks_data/ABC Subsidiary.xlsx', sheet_name='Sheet1', skiprows=4)\n",
    "\n",
    "# view first 5 rows of data\n",
    "abc.head()"
   ]
  },
  {
   "cell_type": "code",
   "execution_count": 114,
   "id": "715690b8-cb82-4560-9280-42a8438db9bc",
   "metadata": {},
   "outputs": [
    {
     "data": {
      "text/html": [
       "<div>\n",
       "<style scoped>\n",
       "    .dataframe tbody tr th:only-of-type {\n",
       "        vertical-align: middle;\n",
       "    }\n",
       "\n",
       "    .dataframe tbody tr th {\n",
       "        vertical-align: top;\n",
       "    }\n",
       "\n",
       "    .dataframe thead th {\n",
       "        text-align: right;\n",
       "    }\n",
       "</style>\n",
       "<table border=\"1\" class=\"dataframe\">\n",
       "  <thead>\n",
       "    <tr style=\"text-align: right;\">\n",
       "      <th></th>\n",
       "      <th>Unnamed: 0</th>\n",
       "      <th>Unnamed: 1</th>\n",
       "      <th>Debit</th>\n",
       "      <th>Unnamed: 3</th>\n",
       "      <th>Credit</th>\n",
       "    </tr>\n",
       "  </thead>\n",
       "  <tbody>\n",
       "    <tr>\n",
       "      <th>25</th>\n",
       "      <td>NaN</td>\n",
       "      <td>20400 · Notes Payable:20401 · Note Payable - J...</td>\n",
       "      <td>NaN</td>\n",
       "      <td>NaN</td>\n",
       "      <td>1000000.00</td>\n",
       "    </tr>\n",
       "    <tr>\n",
       "      <th>26</th>\n",
       "      <td>NaN</td>\n",
       "      <td>60400 · Bank Service Charges</td>\n",
       "      <td>515.00</td>\n",
       "      <td>NaN</td>\n",
       "      <td>NaN</td>\n",
       "    </tr>\n",
       "    <tr>\n",
       "      <th>27</th>\n",
       "      <td>NaN</td>\n",
       "      <td>67300 · Management Fee Exp.</td>\n",
       "      <td>15400.00</td>\n",
       "      <td>NaN</td>\n",
       "      <td>NaN</td>\n",
       "    </tr>\n",
       "    <tr>\n",
       "      <th>28</th>\n",
       "      <td>NaN</td>\n",
       "      <td>69000 · Political Contribution</td>\n",
       "      <td>0.00</td>\n",
       "      <td>NaN</td>\n",
       "      <td>NaN</td>\n",
       "    </tr>\n",
       "    <tr>\n",
       "      <th>29</th>\n",
       "      <td>TOTAL</td>\n",
       "      <td>NaN</td>\n",
       "      <td>5879393.52</td>\n",
       "      <td>NaN</td>\n",
       "      <td>5879393.52</td>\n",
       "    </tr>\n",
       "  </tbody>\n",
       "</table>\n",
       "</div>"
      ],
      "text/plain": [
       "   Unnamed: 0                                         Unnamed: 1       Debit  \\\n",
       "25        NaN  20400 · Notes Payable:20401 · Note Payable - J...         NaN   \n",
       "26        NaN                       60400 · Bank Service Charges      515.00   \n",
       "27        NaN                        67300 · Management Fee Exp.    15400.00   \n",
       "28        NaN                     69000 · Political Contribution        0.00   \n",
       "29      TOTAL                                                NaN  5879393.52   \n",
       "\n",
       "    Unnamed: 3      Credit  \n",
       "25         NaN  1000000.00  \n",
       "26         NaN         NaN  \n",
       "27         NaN         NaN  \n",
       "28         NaN         NaN  \n",
       "29         NaN  5879393.52  "
      ]
     },
     "execution_count": 114,
     "metadata": {},
     "output_type": "execute_result"
    }
   ],
   "source": [
    "# view last 5 rows of data\n",
    "abc.iloc[-5:]"
   ]
  },
  {
   "cell_type": "markdown",
   "id": "5ec86451-a0bb-45e8-8d68-f56e033fc73a",
   "metadata": {
    "tags": []
   },
   "source": [
    "#### 2) Drop the 'TOTAL' row.\n",
    "\n",
    "* The total row should be excluded from the trial balance import into CCH Engagement as the program will automatically calculate the total as a test of whether the trial balance is in balance. \n",
    "\n",
    "***tip: use an if statement to double check whether 'TOTAL' is the last column of the dataframe to avoid accidentally deleting a row of data***"
   ]
  },
  {
   "cell_type": "code",
   "execution_count": 115,
   "id": "20b7162d-4901-434b-b93c-642fd41e8045",
   "metadata": {},
   "outputs": [],
   "source": [
    "# Check if last row is total, use .lower() to coerce all characters to be lowercase\n",
    "if 'total' in str(abc.iloc[-1, 0]).lower():\n",
    "    abc.drop(index=len(abc) - 1, inplace=True)"
   ]
  },
  {
   "cell_type": "code",
   "execution_count": 116,
   "id": "ea8fc697-6772-4388-b849-8bd306407e18",
   "metadata": {},
   "outputs": [
    {
     "data": {
      "text/html": [
       "<div>\n",
       "<style scoped>\n",
       "    .dataframe tbody tr th:only-of-type {\n",
       "        vertical-align: middle;\n",
       "    }\n",
       "\n",
       "    .dataframe tbody tr th {\n",
       "        vertical-align: top;\n",
       "    }\n",
       "\n",
       "    .dataframe thead th {\n",
       "        text-align: right;\n",
       "    }\n",
       "</style>\n",
       "<table border=\"1\" class=\"dataframe\">\n",
       "  <thead>\n",
       "    <tr style=\"text-align: right;\">\n",
       "      <th></th>\n",
       "      <th>Unnamed: 0</th>\n",
       "      <th>Unnamed: 1</th>\n",
       "      <th>Debit</th>\n",
       "      <th>Unnamed: 3</th>\n",
       "      <th>Credit</th>\n",
       "    </tr>\n",
       "  </thead>\n",
       "  <tbody>\n",
       "    <tr>\n",
       "      <th>24</th>\n",
       "      <td>NaN</td>\n",
       "      <td>20100 · Due To/(From) Related Entities:20101 ·...</td>\n",
       "      <td>1043861.84</td>\n",
       "      <td>NaN</td>\n",
       "      <td>NaN</td>\n",
       "    </tr>\n",
       "    <tr>\n",
       "      <th>25</th>\n",
       "      <td>NaN</td>\n",
       "      <td>20400 · Notes Payable:20401 · Note Payable - J...</td>\n",
       "      <td>NaN</td>\n",
       "      <td>NaN</td>\n",
       "      <td>1000000.0</td>\n",
       "    </tr>\n",
       "    <tr>\n",
       "      <th>26</th>\n",
       "      <td>NaN</td>\n",
       "      <td>60400 · Bank Service Charges</td>\n",
       "      <td>515.00</td>\n",
       "      <td>NaN</td>\n",
       "      <td>NaN</td>\n",
       "    </tr>\n",
       "    <tr>\n",
       "      <th>27</th>\n",
       "      <td>NaN</td>\n",
       "      <td>67300 · Management Fee Exp.</td>\n",
       "      <td>15400.00</td>\n",
       "      <td>NaN</td>\n",
       "      <td>NaN</td>\n",
       "    </tr>\n",
       "    <tr>\n",
       "      <th>28</th>\n",
       "      <td>NaN</td>\n",
       "      <td>69000 · Political Contribution</td>\n",
       "      <td>0.00</td>\n",
       "      <td>NaN</td>\n",
       "      <td>NaN</td>\n",
       "    </tr>\n",
       "  </tbody>\n",
       "</table>\n",
       "</div>"
      ],
      "text/plain": [
       "   Unnamed: 0                                         Unnamed: 1       Debit  \\\n",
       "24        NaN  20100 · Due To/(From) Related Entities:20101 ·...  1043861.84   \n",
       "25        NaN  20400 · Notes Payable:20401 · Note Payable - J...         NaN   \n",
       "26        NaN                       60400 · Bank Service Charges      515.00   \n",
       "27        NaN                        67300 · Management Fee Exp.    15400.00   \n",
       "28        NaN                     69000 · Political Contribution        0.00   \n",
       "\n",
       "    Unnamed: 3     Credit  \n",
       "24         NaN        NaN  \n",
       "25         NaN  1000000.0  \n",
       "26         NaN        NaN  \n",
       "27         NaN        NaN  \n",
       "28         NaN        NaN  "
      ]
     },
     "execution_count": 116,
     "metadata": {},
     "output_type": "execute_result"
    }
   ],
   "source": [
    "abc.iloc[-5:]"
   ]
  },
  {
   "cell_type": "markdown",
   "id": "4300449e-6e6b-414b-a3e9-021937cafc98",
   "metadata": {
    "tags": []
   },
   "source": [
    "#### 3) Replace all null values with zeros\n",
    "To help avoid issues with adding and substracting later, we can go ahead and replace missing values with zeroes."
   ]
  },
  {
   "cell_type": "code",
   "execution_count": 117,
   "id": "49ebc6cb-866f-4f4a-87f5-6f043b7abfbd",
   "metadata": {},
   "outputs": [],
   "source": [
    "abc.fillna(0, inplace=True)"
   ]
  },
  {
   "cell_type": "markdown",
   "id": "09d01707-c183-419a-9ee9-3d191d9ad60c",
   "metadata": {
    "tags": []
   },
   "source": [
    "#### 4) Split account names and numbers into new separate columns\n",
    "*This is the most invloved section of the notebook, and where the most time is saved*\n",
    "\n",
    "1) Observe how account names and numbers are nested, and more importantly, how they are separated\n",
    "2) Use .split() method with list comprehensions to select only account names and only account numbers\n",
    "3) Create a function that makes it easier to apply splitting to make new columns"
   ]
  },
  {
   "cell_type": "code",
   "execution_count": 118,
   "id": "d5bf344b-fa69-4255-8d85-0e8b08a6f5ba",
   "metadata": {},
   "outputs": [
    {
     "data": {
      "text/html": [
       "<div>\n",
       "<style scoped>\n",
       "    .dataframe tbody tr th:only-of-type {\n",
       "        vertical-align: middle;\n",
       "    }\n",
       "\n",
       "    .dataframe tbody tr th {\n",
       "        vertical-align: top;\n",
       "    }\n",
       "\n",
       "    .dataframe thead th {\n",
       "        text-align: right;\n",
       "    }\n",
       "</style>\n",
       "<table border=\"1\" class=\"dataframe\">\n",
       "  <thead>\n",
       "    <tr style=\"text-align: right;\">\n",
       "      <th></th>\n",
       "      <th>Unnamed: 0</th>\n",
       "      <th>Unnamed: 1</th>\n",
       "      <th>Debit</th>\n",
       "      <th>Unnamed: 3</th>\n",
       "      <th>Credit</th>\n",
       "    </tr>\n",
       "  </thead>\n",
       "  <tbody>\n",
       "    <tr>\n",
       "      <th>0</th>\n",
       "      <td>0</td>\n",
       "      <td>1010 · Example Bank - Business Banking</td>\n",
       "      <td>716.80</td>\n",
       "      <td>0.0</td>\n",
       "      <td>0.0</td>\n",
       "    </tr>\n",
       "    <tr>\n",
       "      <th>1</th>\n",
       "      <td>0</td>\n",
       "      <td>1210 · Cash In Transit</td>\n",
       "      <td>0.00</td>\n",
       "      <td>0.0</td>\n",
       "      <td>0.0</td>\n",
       "    </tr>\n",
       "    <tr>\n",
       "      <th>2</th>\n",
       "      <td>0</td>\n",
       "      <td>13010 · Land Held for Investment:13011 · Land ...</td>\n",
       "      <td>3561613.12</td>\n",
       "      <td>0.0</td>\n",
       "      <td>0.0</td>\n",
       "    </tr>\n",
       "    <tr>\n",
       "      <th>3</th>\n",
       "      <td>0</td>\n",
       "      <td>13010 · Land Held for Investment:13011 · Land ...</td>\n",
       "      <td>131260.00</td>\n",
       "      <td>0.0</td>\n",
       "      <td>0.0</td>\n",
       "    </tr>\n",
       "    <tr>\n",
       "      <th>4</th>\n",
       "      <td>0</td>\n",
       "      <td>13010 · Land Held for Investment:13011 · Land ...</td>\n",
       "      <td>48155.45</td>\n",
       "      <td>0.0</td>\n",
       "      <td>0.0</td>\n",
       "    </tr>\n",
       "  </tbody>\n",
       "</table>\n",
       "</div>"
      ],
      "text/plain": [
       "   Unnamed: 0                                         Unnamed: 1       Debit  \\\n",
       "0           0             1010 · Example Bank - Business Banking      716.80   \n",
       "1           0                             1210 · Cash In Transit        0.00   \n",
       "2           0  13010 · Land Held for Investment:13011 · Land ...  3561613.12   \n",
       "3           0  13010 · Land Held for Investment:13011 · Land ...   131260.00   \n",
       "4           0  13010 · Land Held for Investment:13011 · Land ...    48155.45   \n",
       "\n",
       "   Unnamed: 3  Credit  \n",
       "0         0.0     0.0  \n",
       "1         0.0     0.0  \n",
       "2         0.0     0.0  \n",
       "3         0.0     0.0  \n",
       "4         0.0     0.0  "
      ]
     },
     "execution_count": 118,
     "metadata": {},
     "output_type": "execute_result"
    }
   ],
   "source": [
    "abc.head()"
   ]
  },
  {
   "cell_type": "markdown",
   "id": "862d3b45-a3aa-40db-8762-8537848674d8",
   "metadata": {},
   "source": [
    "**Note:**\n",
    "* Account names and numbers are separarated by \" · \"\n",
    "* But the accounts are also listed nested inside of account groups and subgroups separated by \":\"\n",
    "* To complicate things further, some accounts do not have account groups and/or subgroups included (so we cannot just choose the same index every time)\n",
    "\n",
    "**See the account at index 2 as an example:**\n",
    "* The account name is 'Land' and the account number is '13011.1'\n",
    "* The account sub-group is 'Land Basis' and the sub-group account number is '13011'\n",
    "* The account group in 'Land Help for Investment' and the group account number is '13010'\n",
    "\n",
    "***tip: to consistently select only 'Land' and '13011.1' whether or not the account group or subgroup is present, use a list comprehension that selects only the last element of each list of splits***"
   ]
  },
  {
   "cell_type": "code",
   "execution_count": 119,
   "id": "26032773-94b0-4cd6-b57e-b3b96b8c1dff",
   "metadata": {},
   "outputs": [
    {
     "name": "stdout",
     "output_type": "stream",
     "text": [
      "String before splitting: 13010 · Land Held for Investment:13011 · Land Basis:13011.1 · Land\n",
      "\n",
      "List after splitting: ['13010 · Land Held for Investment', '13011 · Land Basis', '13011.1 · Land']\n",
      "\n",
      "Last element of split list: 13011.1 · Land\n"
     ]
    }
   ],
   "source": [
    "print(f\"String before splitting: {abc['Unnamed: 1'][2]}\\n\")\n",
    "print(f\"List after splitting: {abc['Unnamed: 1'][2].split(':')}\\n\")\n",
    "print(f\"Last element of split list: {abc['Unnamed: 1'][2].split(':')[-1]}\")"
   ]
  },
  {
   "cell_type": "code",
   "execution_count": 120,
   "id": "610938bb-cbe3-4600-b105-41edbcc5de96",
   "metadata": {},
   "outputs": [
    {
     "data": {
      "text/plain": [
       "0    1010 · Example Bank - Business Banking\n",
       "1                    1210 · Cash In Transit\n",
       "2                            13011.1 · Land\n",
       "3                  13011.3 · Assignment Fee\n",
       "4                      13012 · Closing Cost\n",
       "Name: accts_names, dtype: object"
      ]
     },
     "execution_count": 120,
     "metadata": {},
     "output_type": "execute_result"
    }
   ],
   "source": [
    "# Create list comprehension of every last element of split lists and assign it to a new column\n",
    "abc['accts_names'] = [x[-1] for x in abc['Unnamed: 1'].str.split(':')]\n",
    "\n",
    "# View list of account names and numbers\n",
    "abc['accts_names'].head()"
   ]
  },
  {
   "cell_type": "markdown",
   "id": "df712e61-bc10-41cc-9d0e-7230bc70993b",
   "metadata": {},
   "source": [
    "***tip: since we can use essentially the same process to access the account names and numbers from the new column, we can write a function to make repeating this process easier.***"
   ]
  },
  {
   "cell_type": "code",
   "execution_count": 121,
   "id": "081a224d-9945-46ca-9577-4e6835a4e272",
   "metadata": {},
   "outputs": [],
   "source": [
    "def new_col_from_split(df, split_col, delim, index=-1):\n",
    "    \n",
    "    return [x[index] for x in df[split_col].astype(str).str.split(delim)]"
   ]
  },
  {
   "cell_type": "code",
   "execution_count": 122,
   "id": "c0e0bcb4-cb9f-4825-9e64-ae82a18fcdd6",
   "metadata": {},
   "outputs": [
    {
     "data": {
      "text/plain": [
       "['1010 · Example Bank - Business Banking',\n",
       " '1210 · Cash In Transit',\n",
       " '13011.1 · Land',\n",
       " '13011.3 · Assignment Fee',\n",
       " '13012 · Closing Cost']"
      ]
     },
     "execution_count": 122,
     "metadata": {},
     "output_type": "execute_result"
    }
   ],
   "source": [
    "# Compare the first 5 outputs of our function to the first 5 lines of the acct_names column already created\n",
    "new_col_from_split(abc, 'Unnamed: 1', delim=':')[:5]\n"
   ]
  },
  {
   "cell_type": "code",
   "execution_count": 123,
   "id": "3da600ff-d41d-491f-bbab-6cc1ae0590bc",
   "metadata": {},
   "outputs": [
    {
     "data": {
      "text/html": [
       "<div>\n",
       "<style scoped>\n",
       "    .dataframe tbody tr th:only-of-type {\n",
       "        vertical-align: middle;\n",
       "    }\n",
       "\n",
       "    .dataframe tbody tr th {\n",
       "        vertical-align: top;\n",
       "    }\n",
       "\n",
       "    .dataframe thead th {\n",
       "        text-align: right;\n",
       "    }\n",
       "</style>\n",
       "<table border=\"1\" class=\"dataframe\">\n",
       "  <thead>\n",
       "    <tr style=\"text-align: right;\">\n",
       "      <th></th>\n",
       "      <th>Unnamed: 0</th>\n",
       "      <th>Unnamed: 1</th>\n",
       "      <th>Debit</th>\n",
       "      <th>Unnamed: 3</th>\n",
       "      <th>Credit</th>\n",
       "      <th>accts_names</th>\n",
       "    </tr>\n",
       "  </thead>\n",
       "  <tbody>\n",
       "    <tr>\n",
       "      <th>0</th>\n",
       "      <td>0</td>\n",
       "      <td>1010 · Example Bank - Business Banking</td>\n",
       "      <td>716.80</td>\n",
       "      <td>0.0</td>\n",
       "      <td>0.0</td>\n",
       "      <td>1010 · Example Bank - Business Banking</td>\n",
       "    </tr>\n",
       "    <tr>\n",
       "      <th>1</th>\n",
       "      <td>0</td>\n",
       "      <td>1210 · Cash In Transit</td>\n",
       "      <td>0.00</td>\n",
       "      <td>0.0</td>\n",
       "      <td>0.0</td>\n",
       "      <td>1210 · Cash In Transit</td>\n",
       "    </tr>\n",
       "    <tr>\n",
       "      <th>2</th>\n",
       "      <td>0</td>\n",
       "      <td>13010 · Land Held for Investment:13011 · Land ...</td>\n",
       "      <td>3561613.12</td>\n",
       "      <td>0.0</td>\n",
       "      <td>0.0</td>\n",
       "      <td>13011.1 · Land</td>\n",
       "    </tr>\n",
       "    <tr>\n",
       "      <th>3</th>\n",
       "      <td>0</td>\n",
       "      <td>13010 · Land Held for Investment:13011 · Land ...</td>\n",
       "      <td>131260.00</td>\n",
       "      <td>0.0</td>\n",
       "      <td>0.0</td>\n",
       "      <td>13011.3 · Assignment Fee</td>\n",
       "    </tr>\n",
       "    <tr>\n",
       "      <th>4</th>\n",
       "      <td>0</td>\n",
       "      <td>13010 · Land Held for Investment:13011 · Land ...</td>\n",
       "      <td>48155.45</td>\n",
       "      <td>0.0</td>\n",
       "      <td>0.0</td>\n",
       "      <td>13012 · Closing Cost</td>\n",
       "    </tr>\n",
       "  </tbody>\n",
       "</table>\n",
       "</div>"
      ],
      "text/plain": [
       "   Unnamed: 0                                         Unnamed: 1       Debit  \\\n",
       "0           0             1010 · Example Bank - Business Banking      716.80   \n",
       "1           0                             1210 · Cash In Transit        0.00   \n",
       "2           0  13010 · Land Held for Investment:13011 · Land ...  3561613.12   \n",
       "3           0  13010 · Land Held for Investment:13011 · Land ...   131260.00   \n",
       "4           0  13010 · Land Held for Investment:13011 · Land ...    48155.45   \n",
       "\n",
       "   Unnamed: 3  Credit                             accts_names  \n",
       "0         0.0     0.0  1010 · Example Bank - Business Banking  \n",
       "1         0.0     0.0                  1210 · Cash In Transit  \n",
       "2         0.0     0.0                          13011.1 · Land  \n",
       "3         0.0     0.0                13011.3 · Assignment Fee  \n",
       "4         0.0     0.0                    13012 · Closing Cost  "
      ]
     },
     "execution_count": 123,
     "metadata": {},
     "output_type": "execute_result"
    }
   ],
   "source": [
    "# Apply the new function to the acct_names column (only viewing first 5 outputs)\n",
    "abc[:5]"
   ]
  },
  {
   "cell_type": "markdown",
   "id": "116b1f22-5818-43a2-a628-561129721aef",
   "metadata": {},
   "source": [
    "**Note:**\n",
    "* Since our 'index' parameter is set to a default of 0, this function will always grab the last item in each list unless instructed otherwise\n",
    "* To access the account name, no index argument needs to be passed. To access account numbers, the index=0 argument will need to be passed"
   ]
  },
  {
   "cell_type": "code",
   "execution_count": 124,
   "id": "805017fd-da07-42ef-9fb8-28dcc8713599",
   "metadata": {},
   "outputs": [
    {
     "data": {
      "text/plain": [
       "['1010', '1210', '13011.1', '13011.3', '13012']"
      ]
     },
     "execution_count": 124,
     "metadata": {},
     "output_type": "execute_result"
    }
   ],
   "source": [
    "# Access account numbers wiht index=0 (only viewing first 5 outputs)\n",
    "new_col_from_split(abc, 'accts_names', delim=' · ', index=0)[:5]"
   ]
  },
  {
   "cell_type": "code",
   "execution_count": 125,
   "id": "61478db1-6f8d-478e-9570-e96c166b84ff",
   "metadata": {},
   "outputs": [
    {
     "data": {
      "text/html": [
       "<div>\n",
       "<style scoped>\n",
       "    .dataframe tbody tr th:only-of-type {\n",
       "        vertical-align: middle;\n",
       "    }\n",
       "\n",
       "    .dataframe tbody tr th {\n",
       "        vertical-align: top;\n",
       "    }\n",
       "\n",
       "    .dataframe thead th {\n",
       "        text-align: right;\n",
       "    }\n",
       "</style>\n",
       "<table border=\"1\" class=\"dataframe\">\n",
       "  <thead>\n",
       "    <tr style=\"text-align: right;\">\n",
       "      <th></th>\n",
       "      <th>Unnamed: 0</th>\n",
       "      <th>Unnamed: 1</th>\n",
       "      <th>Debit</th>\n",
       "      <th>Unnamed: 3</th>\n",
       "      <th>Credit</th>\n",
       "      <th>accts_names</th>\n",
       "      <th>account_number</th>\n",
       "      <th>account_name</th>\n",
       "    </tr>\n",
       "  </thead>\n",
       "  <tbody>\n",
       "    <tr>\n",
       "      <th>0</th>\n",
       "      <td>0</td>\n",
       "      <td>1010 · Example Bank - Business Banking</td>\n",
       "      <td>716.80</td>\n",
       "      <td>0.0</td>\n",
       "      <td>0.0</td>\n",
       "      <td>1010 · Example Bank - Business Banking</td>\n",
       "      <td>1010</td>\n",
       "      <td>Example Bank - Business Banking</td>\n",
       "    </tr>\n",
       "    <tr>\n",
       "      <th>1</th>\n",
       "      <td>0</td>\n",
       "      <td>1210 · Cash In Transit</td>\n",
       "      <td>0.00</td>\n",
       "      <td>0.0</td>\n",
       "      <td>0.0</td>\n",
       "      <td>1210 · Cash In Transit</td>\n",
       "      <td>1210</td>\n",
       "      <td>Cash In Transit</td>\n",
       "    </tr>\n",
       "    <tr>\n",
       "      <th>2</th>\n",
       "      <td>0</td>\n",
       "      <td>13010 · Land Held for Investment:13011 · Land ...</td>\n",
       "      <td>3561613.12</td>\n",
       "      <td>0.0</td>\n",
       "      <td>0.0</td>\n",
       "      <td>13011.1 · Land</td>\n",
       "      <td>13011.1</td>\n",
       "      <td>Land</td>\n",
       "    </tr>\n",
       "    <tr>\n",
       "      <th>3</th>\n",
       "      <td>0</td>\n",
       "      <td>13010 · Land Held for Investment:13011 · Land ...</td>\n",
       "      <td>131260.00</td>\n",
       "      <td>0.0</td>\n",
       "      <td>0.0</td>\n",
       "      <td>13011.3 · Assignment Fee</td>\n",
       "      <td>13011.3</td>\n",
       "      <td>Assignment Fee</td>\n",
       "    </tr>\n",
       "    <tr>\n",
       "      <th>4</th>\n",
       "      <td>0</td>\n",
       "      <td>13010 · Land Held for Investment:13011 · Land ...</td>\n",
       "      <td>48155.45</td>\n",
       "      <td>0.0</td>\n",
       "      <td>0.0</td>\n",
       "      <td>13012 · Closing Cost</td>\n",
       "      <td>13012</td>\n",
       "      <td>Closing Cost</td>\n",
       "    </tr>\n",
       "  </tbody>\n",
       "</table>\n",
       "</div>"
      ],
      "text/plain": [
       "   Unnamed: 0                                         Unnamed: 1       Debit  \\\n",
       "0           0             1010 · Example Bank - Business Banking      716.80   \n",
       "1           0                             1210 · Cash In Transit        0.00   \n",
       "2           0  13010 · Land Held for Investment:13011 · Land ...  3561613.12   \n",
       "3           0  13010 · Land Held for Investment:13011 · Land ...   131260.00   \n",
       "4           0  13010 · Land Held for Investment:13011 · Land ...    48155.45   \n",
       "\n",
       "   Unnamed: 3  Credit                             accts_names account_number  \\\n",
       "0         0.0     0.0  1010 · Example Bank - Business Banking           1010   \n",
       "1         0.0     0.0                  1210 · Cash In Transit           1210   \n",
       "2         0.0     0.0                          13011.1 · Land        13011.1   \n",
       "3         0.0     0.0                13011.3 · Assignment Fee        13011.3   \n",
       "4         0.0     0.0                    13012 · Closing Cost          13012   \n",
       "\n",
       "                      account_name  \n",
       "0  Example Bank - Business Banking  \n",
       "1                  Cash In Transit  \n",
       "2                             Land  \n",
       "3                   Assignment Fee  \n",
       "4                     Closing Cost  "
      ]
     },
     "execution_count": 125,
     "metadata": {},
     "output_type": "execute_result"
    }
   ],
   "source": [
    "# Assign account name and number columns to be equal to respective outputs of the new_col_from_split function\n",
    "abc['account_number'] = new_col_from_split(abc, 'accts_names', delim=' · ', index=0)\n",
    "abc['account_name'] = new_col_from_split(abc, 'accts_names', delim=' · ')\n",
    "\n",
    "abc.head()"
   ]
  },
  {
   "cell_type": "markdown",
   "id": "fa47271d-767f-41cf-8d6e-e97960f76baf",
   "metadata": {},
   "source": [
    "#### 5) Add suffixes to account numbers"
   ]
  },
  {
   "cell_type": "code",
   "execution_count": 126,
   "id": "97143e56-8174-4a29-be52-08f56dbbad45",
   "metadata": {},
   "outputs": [],
   "source": [
    "# assign suffix variable to the value of the entity_dict belonging to the filename as key\n",
    "suffix = entity_dict['ABC Subsidiary.xlsx']\n",
    "\n",
    "# to avoid adding the suffix multiple time, check if the suffix is in 1 entry of the account numbers column before appending it to all of the account numbers\n",
    "if suffix not in abc['account_number'][0]:\n",
    "    abc['account_number'] += suffix"
   ]
  },
  {
   "cell_type": "code",
   "execution_count": 127,
   "id": "49468660-8e23-4e8f-a434-7697a8b94382",
   "metadata": {},
   "outputs": [
    {
     "data": {
      "text/plain": [
       "0       1010.ABC\n",
       "1       1210.ABC\n",
       "2    13011.1.ABC\n",
       "3    13011.3.ABC\n",
       "4      13012.ABC\n",
       "Name: account_number, dtype: object"
      ]
     },
     "execution_count": 127,
     "metadata": {},
     "output_type": "execute_result"
    }
   ],
   "source": [
    "abc['account_number'].head()"
   ]
  },
  {
   "cell_type": "markdown",
   "id": "678b0799-e9c2-4eab-b7e4-ea6dca0f53ce",
   "metadata": {},
   "source": [
    "#### 6) Combine debit and credit columns into a single balance column\n",
    "The balance column can be easily created by subtracting the credit column from the debit column"
   ]
  },
  {
   "cell_type": "code",
   "execution_count": 128,
   "id": "fdddffe4-abf5-4a9c-8cbf-d354358c16e8",
   "metadata": {},
   "outputs": [
    {
     "data": {
      "text/html": [
       "<div>\n",
       "<style scoped>\n",
       "    .dataframe tbody tr th:only-of-type {\n",
       "        vertical-align: middle;\n",
       "    }\n",
       "\n",
       "    .dataframe tbody tr th {\n",
       "        vertical-align: top;\n",
       "    }\n",
       "\n",
       "    .dataframe thead th {\n",
       "        text-align: right;\n",
       "    }\n",
       "</style>\n",
       "<table border=\"1\" class=\"dataframe\">\n",
       "  <thead>\n",
       "    <tr style=\"text-align: right;\">\n",
       "      <th></th>\n",
       "      <th>Unnamed: 0</th>\n",
       "      <th>Unnamed: 1</th>\n",
       "      <th>Debit</th>\n",
       "      <th>Unnamed: 3</th>\n",
       "      <th>Credit</th>\n",
       "      <th>accts_names</th>\n",
       "      <th>account_number</th>\n",
       "      <th>account_name</th>\n",
       "      <th>balance</th>\n",
       "    </tr>\n",
       "  </thead>\n",
       "  <tbody>\n",
       "    <tr>\n",
       "      <th>0</th>\n",
       "      <td>0</td>\n",
       "      <td>1010 · Example Bank - Business Banking</td>\n",
       "      <td>716.80</td>\n",
       "      <td>0.0</td>\n",
       "      <td>0.0</td>\n",
       "      <td>1010 · Example Bank - Business Banking</td>\n",
       "      <td>1010.ABC</td>\n",
       "      <td>Example Bank - Business Banking</td>\n",
       "      <td>716.80</td>\n",
       "    </tr>\n",
       "    <tr>\n",
       "      <th>1</th>\n",
       "      <td>0</td>\n",
       "      <td>1210 · Cash In Transit</td>\n",
       "      <td>0.00</td>\n",
       "      <td>0.0</td>\n",
       "      <td>0.0</td>\n",
       "      <td>1210 · Cash In Transit</td>\n",
       "      <td>1210.ABC</td>\n",
       "      <td>Cash In Transit</td>\n",
       "      <td>0.00</td>\n",
       "    </tr>\n",
       "    <tr>\n",
       "      <th>2</th>\n",
       "      <td>0</td>\n",
       "      <td>13010 · Land Held for Investment:13011 · Land ...</td>\n",
       "      <td>3561613.12</td>\n",
       "      <td>0.0</td>\n",
       "      <td>0.0</td>\n",
       "      <td>13011.1 · Land</td>\n",
       "      <td>13011.1.ABC</td>\n",
       "      <td>Land</td>\n",
       "      <td>3561613.12</td>\n",
       "    </tr>\n",
       "    <tr>\n",
       "      <th>3</th>\n",
       "      <td>0</td>\n",
       "      <td>13010 · Land Held for Investment:13011 · Land ...</td>\n",
       "      <td>131260.00</td>\n",
       "      <td>0.0</td>\n",
       "      <td>0.0</td>\n",
       "      <td>13011.3 · Assignment Fee</td>\n",
       "      <td>13011.3.ABC</td>\n",
       "      <td>Assignment Fee</td>\n",
       "      <td>131260.00</td>\n",
       "    </tr>\n",
       "    <tr>\n",
       "      <th>4</th>\n",
       "      <td>0</td>\n",
       "      <td>13010 · Land Held for Investment:13011 · Land ...</td>\n",
       "      <td>48155.45</td>\n",
       "      <td>0.0</td>\n",
       "      <td>0.0</td>\n",
       "      <td>13012 · Closing Cost</td>\n",
       "      <td>13012.ABC</td>\n",
       "      <td>Closing Cost</td>\n",
       "      <td>48155.45</td>\n",
       "    </tr>\n",
       "  </tbody>\n",
       "</table>\n",
       "</div>"
      ],
      "text/plain": [
       "   Unnamed: 0                                         Unnamed: 1       Debit  \\\n",
       "0           0             1010 · Example Bank - Business Banking      716.80   \n",
       "1           0                             1210 · Cash In Transit        0.00   \n",
       "2           0  13010 · Land Held for Investment:13011 · Land ...  3561613.12   \n",
       "3           0  13010 · Land Held for Investment:13011 · Land ...   131260.00   \n",
       "4           0  13010 · Land Held for Investment:13011 · Land ...    48155.45   \n",
       "\n",
       "   Unnamed: 3  Credit                             accts_names account_number  \\\n",
       "0         0.0     0.0  1010 · Example Bank - Business Banking       1010.ABC   \n",
       "1         0.0     0.0                  1210 · Cash In Transit       1210.ABC   \n",
       "2         0.0     0.0                          13011.1 · Land    13011.1.ABC   \n",
       "3         0.0     0.0                13011.3 · Assignment Fee    13011.3.ABC   \n",
       "4         0.0     0.0                    13012 · Closing Cost      13012.ABC   \n",
       "\n",
       "                      account_name     balance  \n",
       "0  Example Bank - Business Banking      716.80  \n",
       "1                  Cash In Transit        0.00  \n",
       "2                             Land  3561613.12  \n",
       "3                   Assignment Fee   131260.00  \n",
       "4                     Closing Cost    48155.45  "
      ]
     },
     "execution_count": 128,
     "metadata": {},
     "output_type": "execute_result"
    }
   ],
   "source": [
    "abc['balance'] = abc['Debit'] - abc['Credit']\n",
    "\n",
    "abc.head()"
   ]
  },
  {
   "cell_type": "markdown",
   "id": "c21d81a9-a16c-494e-b30b-506b2ff65190",
   "metadata": {
    "tags": []
   },
   "source": [
    "#### 7) Export a dataframe of only account numbers, account names, and balances to a new excel file in the output folder\n",
    "Trial Balance imports in CCH Engagement take only 3 columns: account numbers, account names, and balances."
   ]
  },
  {
   "cell_type": "code",
   "execution_count": 129,
   "id": "8572fa97-f235-4db4-9716-24d5dbc036d1",
   "metadata": {},
   "outputs": [
    {
     "data": {
      "text/html": [
       "<div>\n",
       "<style scoped>\n",
       "    .dataframe tbody tr th:only-of-type {\n",
       "        vertical-align: middle;\n",
       "    }\n",
       "\n",
       "    .dataframe tbody tr th {\n",
       "        vertical-align: top;\n",
       "    }\n",
       "\n",
       "    .dataframe thead th {\n",
       "        text-align: right;\n",
       "    }\n",
       "</style>\n",
       "<table border=\"1\" class=\"dataframe\">\n",
       "  <thead>\n",
       "    <tr style=\"text-align: right;\">\n",
       "      <th></th>\n",
       "      <th>account_number</th>\n",
       "      <th>account_name</th>\n",
       "      <th>balance</th>\n",
       "    </tr>\n",
       "  </thead>\n",
       "  <tbody>\n",
       "    <tr>\n",
       "      <th>0</th>\n",
       "      <td>1010.ABC</td>\n",
       "      <td>Example Bank - Business Banking</td>\n",
       "      <td>716.80</td>\n",
       "    </tr>\n",
       "    <tr>\n",
       "      <th>1</th>\n",
       "      <td>1210.ABC</td>\n",
       "      <td>Cash In Transit</td>\n",
       "      <td>0.00</td>\n",
       "    </tr>\n",
       "    <tr>\n",
       "      <th>2</th>\n",
       "      <td>13011.1.ABC</td>\n",
       "      <td>Land</td>\n",
       "      <td>3561613.12</td>\n",
       "    </tr>\n",
       "    <tr>\n",
       "      <th>3</th>\n",
       "      <td>13011.3.ABC</td>\n",
       "      <td>Assignment Fee</td>\n",
       "      <td>131260.00</td>\n",
       "    </tr>\n",
       "    <tr>\n",
       "      <th>4</th>\n",
       "      <td>13012.ABC</td>\n",
       "      <td>Closing Cost</td>\n",
       "      <td>48155.45</td>\n",
       "    </tr>\n",
       "  </tbody>\n",
       "</table>\n",
       "</div>"
      ],
      "text/plain": [
       "  account_number                     account_name     balance\n",
       "0       1010.ABC  Example Bank - Business Banking      716.80\n",
       "1       1210.ABC                  Cash In Transit        0.00\n",
       "2    13011.1.ABC                             Land  3561613.12\n",
       "3    13011.3.ABC                   Assignment Fee   131260.00\n",
       "4      13012.ABC                     Closing Cost    48155.45"
      ]
     },
     "execution_count": 129,
     "metadata": {},
     "output_type": "execute_result"
    }
   ],
   "source": [
    "# Assign account_number, account_name, and balance to a list that will serve as a list of columns to export\n",
    "export_cols = ['account_number', 'account_name', 'balance']\n",
    "\n",
    "#filter the dataframe by those columns\n",
    "abc[export_cols].head()"
   ]
  },
  {
   "cell_type": "code",
   "execution_count": 130,
   "id": "08dc8148-4868-45e2-90af-3f717fdb4df7",
   "metadata": {},
   "outputs": [],
   "source": [
    "# set index = False to avoid exporting the indexes along with the data\n",
    "abc[export_cols].to_excel('./ready_for_tb_import/formatted_tb_ABC Subsidiary.xlsx', index=False)"
   ]
  },
  {
   "cell_type": "markdown",
   "id": "3ef5fde3-e4e4-4e58-aa86-212fcbf706e5",
   "metadata": {},
   "source": [
    "#### 8) Move processed files to the appropriate output folder"
   ]
  },
  {
   "cell_type": "code",
   "execution_count": 131,
   "id": "7fe9f5f1-98bc-404c-ad3d-93bb3d6a42fe",
   "metadata": {},
   "outputs": [],
   "source": [
    "# Set filename, source folder, and destination folder variables\n",
    "file = 'ABC Subsidiary.xlsx'\n",
    "source_folder = './quickbooks_data/'\n",
    "dest_folder = './processed_quickbooks_files/'\n",
    "\n",
    "# Use os.rename to replace the source folder with the destination folder in the file path (use the if statement to avoid errors if you run this cell twice!)\n",
    "if file in os.listdir(source_folder):    \n",
    "    os.rename(source_folder + file, dest_folder + file)"
   ]
  },
  {
   "cell_type": "markdown",
   "id": "b9a2a7fa-f27a-41b2-8a24-aadc850964b5",
   "metadata": {},
   "source": [
    "# Putting it All Together: Refactoring\n",
    "* To make this process scalable, we can write a few functions that allow us to loop through the files in the dictionary of entities and apply all of the transformations that were performed on 'ABC Subsidiary.xlsx' to every file in our source folder. \n",
    "* Once these functions are written, there is very little difference in the time it takes to format 1 trial balance or 100. \n",
    "* The use of functions also helps make this code easily adaptable to trial balance formatting for other companies. Quickbooks data is generally exported in similar formats, usually just with different delimiters between account names and numbers. Adapting this approach to another client is often as easy as replacing the delimiter in your function and the names of the source folders and running your script!"
   ]
  },
  {
   "cell_type": "markdown",
   "id": "58a58369-08a8-4ce5-b711-05a0e0d65cf5",
   "metadata": {},
   "source": [
    "## 3 functions\n",
    "1) The new_col_from_split function we already created\n",
    "2) A function to create the dictionary of entities\n",
    "3) A function to apply formatting\n"
   ]
  },
  {
   "cell_type": "markdown",
   "id": "ab238382-600c-44d9-a163-3383c783b61b",
   "metadata": {},
   "source": [
    "### 1) The new_col_from_split function we already created\n",
    "\n",
    "Here we simply took the function defined earlier and added some explanation with a docstring."
   ]
  },
  {
   "cell_type": "code",
   "execution_count": 132,
   "id": "7a57b104-c078-4523-aef2-8a03d02abb45",
   "metadata": {},
   "outputs": [],
   "source": [
    "def new_col_from_split(df, split_col, delim, index=-1):\n",
    "    \"\"\"This function takes a dataframe, a column to split, a delimiter, and an optional \n",
    "    index position that defaults to -1. It returns a list of the last element of each list that \n",
    "    results from splitting the split_col in the given dataframe (df). To select an element \n",
    "    other than the last element, use the index keyword argument to pass a different index position to select.\"\"\"\n",
    "    \n",
    "    return [x[index] for x in df[split_col].astype(str).str.split(delim)]"
   ]
  },
  {
   "cell_type": "markdown",
   "id": "b2eaa5f3-a447-4cca-ad77-3b604afa14a3",
   "metadata": {},
   "source": [
    "#### 2) A function to create the dictionary of entities\n",
    "\n",
    "Refactor the code used to create out entity_dict as a function"
   ]
  },
  {
   "cell_type": "code",
   "execution_count": 133,
   "id": "06869236-32be-4f58-b826-d6675521d105",
   "metadata": {},
   "outputs": [
    {
     "data": {
      "text/plain": [
       "{'DEF Subsidiary.xlsx': '.DEF', 'GHI Subsidiary.xlsx': '.GHI'}"
      ]
     },
     "execution_count": 133,
     "metadata": {},
     "output_type": "execute_result"
    }
   ],
   "source": [
    "entities_df = pd.read_excel('account_keys.xlsx')\n",
    "\n",
    "data = os.listdir('./quickbooks_data/')\n",
    "\n",
    "entity_dict = {}\n",
    "\n",
    "# use zip() function to loop through entity names and suffixes in the entities dataframe simulaneously\n",
    "for entity, suffix in zip(entities_df['Entity'], entities_df['Acronym']):\n",
    "\n",
    "    # if a match occurs between the files in the data list and the entities column, add the filename as key and the suffix as value to the empty dictionary\n",
    "    if entity + '.xlsx' in data:\n",
    "        entity_dict.update({f'{entity}.xlsx':f'.{suffix}'})\n",
    "\n",
    "# view the entity_dict\n",
    "entity_dict"
   ]
  },
  {
   "cell_type": "markdown",
   "id": "fb65ed89-616b-49f3-8bf6-76940e360162",
   "metadata": {},
   "source": [
    "**The necessary inputs are: a dataframe, the entity column of the dataframe, the suffix column of the dataframe, and the folder our data is stored in**"
   ]
  },
  {
   "cell_type": "code",
   "execution_count": 134,
   "id": "535017d3-e141-49d0-b829-f0839252a7fd",
   "metadata": {},
   "outputs": [],
   "source": [
    "def create_entity_dict(dataframe, entity_column, suffix_column, data_folder='./quickbooks_data/'):\n",
    "    \"\"\"This function takes a dataframe, its entity column, its suffix column, and a \n",
    "    data_folder that default to quickbooks_data, and returns a dictionary of file names to format\n",
    "    and suffixes for the account numbers in that file.\"\"\"\n",
    "    \n",
    "    file_list = os.listdir(data_folder)\n",
    "    entity_dict = {}\n",
    "    for entity, suffix in zip(dataframe[entity_column], dataframe[suffix_column]):\n",
    "        if entity + '.xlsx' in file_list:\n",
    "            entity_dict.update({f'{entity}.xlsx': f'.{suffix}'})\n",
    "            \n",
    "    return entity_dict\n",
    "            \n",
    "        "
   ]
  },
  {
   "cell_type": "markdown",
   "id": "509a0e7c-333d-44c7-be7c-9f977f026f47",
   "metadata": {},
   "source": [
    "**As long as we have a dataframe with entity names and suffixes, we can now pass any dataframe and its corresponding columns into the function, along with our data_folder if it is not \"quickbooks_data\" and create our entity dictionary**"
   ]
  },
  {
   "cell_type": "code",
   "execution_count": 135,
   "id": "6a0291fb-4f44-455b-b131-310ba6c59461",
   "metadata": {},
   "outputs": [
    {
     "data": {
      "text/plain": [
       "{'DEF Subsidiary.xlsx': '.DEF', 'GHI Subsidiary.xlsx': '.GHI'}"
      ]
     },
     "execution_count": 135,
     "metadata": {},
     "output_type": "execute_result"
    }
   ],
   "source": [
    "entities_df = pd.read_excel('account_keys.xlsx')\n",
    "\n",
    "dict_from_func = create_entity_dict(entities_df, 'Entity', 'Acronym')\n",
    "\n",
    "dict_from_func"
   ]
  },
  {
   "cell_type": "markdown",
   "id": "3aa80542-771e-4812-a1cf-bb0a0424957d",
   "metadata": {},
   "source": [
    "#### 3) A function to apply formatting\n",
    "**For a reminder, the steps we applied to the single dataframe are listed again below with changes made in italics. We will add the same steps to our function, with additional step for looping through the entity_dict and creating folders if they are not present.**\n",
    "1) Import a single excel file as a dataframe: ***assign the dataframe to a placeholder _df instead of abc, use f-string of datafolder and entity to reference the filename***\n",
    "2) Drop the 'TOTAL' row: ***replace all occurances of abc with the placeholder _df***\n",
    "3) Replace all null values with zeros: ***replace all occurances of abc with the placeholder _df***\n",
    "4) Split account names and numbers into new separate columns ***combine with step 5***\n",
    "5) Add suffixes to account numbers ***replace abc with _df, set new col name to placeholder _col, append the suffix to the account number as the list is created***\n",
    "6) Combine debit and credit columns into a single balance column: ***replace abc with _df***\n",
    "7) Export a dataframe of only account numbers, account names, and balances to a new excel file: ***replace abc with _df, use f-string to create filenames instead of hard keyed filenames.***\n",
    "8) Move processed files to the appropriate output folder: ***use f-strings to reference the data_folder and filenames.***"
   ]
  },
  {
   "cell_type": "code",
   "execution_count": 136,
   "id": "a3ca4947-83b4-4d9d-a47b-75edea502ffb",
   "metadata": {},
   "outputs": [],
   "source": [
    "def format_tbs(entities_dict, data_folder='./quickbooks_data/'):\n",
    "    \n",
    "    # new step: create folders if needed\n",
    "    if 'ready_for_tb_import' not in os.listdir():\n",
    "        os.mkdir('./ready_for_import/')\n",
    "        \n",
    "    if 'processed_quickbooks_files' not in os.listdir():\n",
    "        os.mkdir('./processed_quickbooks_files/')\n",
    "    \n",
    "    # new step: loop through dictionary\n",
    "    for entity, suffix in entities_dict.items():\n",
    "        \n",
    "        # new step: print filename currently being formatted to help if an error is thrown\n",
    "        print(f'formatting {entity}...')\n",
    "        \n",
    "        # step 1: import file as dataframe\n",
    "        _df = pd.read_excel(f'{data_folder}{entity}', sheet_name='Sheet1', skiprows=4)\n",
    "        \n",
    "        # step 2: drop unneeded 'TOTAL' row\n",
    "        if 'total' in str(_df.iloc[-1, 0]).lower():\n",
    "            _df.drop(index=len(_df) - 1, inplace=True)\n",
    "            \n",
    "        # step 3: replace null values with zeros\n",
    "        _df.fillna(0, inplace=True)\n",
    "        \n",
    "        # step 4 and step 5: split account names and numbers into new separate columns and add suffixes to account numbers\n",
    "        _df['_col'] = new_col_from_split(_df, 'Unnamed: 1', ':')\n",
    "        _df['account_number'] = [account + suffix for account in new_col_from_split(_df, '_col', ' · ', index=0)]\n",
    "        _df['account_name'] = new_col_from_split(_df, '_col', ' · ')\n",
    "        \n",
    "        # step 6: Combine debit and credit column\n",
    "        _df['balance'] = _df['Debit'] - _df['Credit']\n",
    "        \n",
    "        #step 7: Export a dataframe of only account numbers, account names, and balances to a new excel file\n",
    "        _df[['account_number', 'account_name', 'balance']].to_excel(f'./ready_for_tb_import/formatted_tb_{entity}', index=False)\n",
    "        \n",
    "        # step 8: Move processed files to the appropriate output folder\n",
    "        os.rename(f'./{data_folder}/{entity}', f'./processed_quickbooks_files/{entity}')\n",
    "        \n",
    "        # new step: print statement to indicate that the file was formatted successfully\n",
    "        print(f'formatted_tb_{entity} successfully created')"
   ]
  },
  {
   "cell_type": "code",
   "execution_count": 137,
   "id": "004b0079-e18c-4091-9052-07023e466f21",
   "metadata": {},
   "outputs": [
    {
     "name": "stdout",
     "output_type": "stream",
     "text": [
      "formatting DEF Subsidiary.xlsx...\n",
      "formatted_tb_DEF Subsidiary.xlsx successfully created\n",
      "formatting GHI Subsidiary.xlsx...\n",
      "formatted_tb_GHI Subsidiary.xlsx successfully created\n"
     ]
    }
   ],
   "source": [
    "# pass our new formatting function on our dictionary created by our create_entity_dict function: dict_from_func\n",
    "format_tbs(dict_from_func)"
   ]
  },
  {
   "cell_type": "markdown",
   "id": "03ba0bf9-0547-49ce-a23c-60882c4bc8e3",
   "metadata": {},
   "source": [
    "# Testing it Out\n",
    "***It looks like the client just sent over quickbooks data for several more subsidiaries, could you set up a script to run using these functions on the files in the \"more_quickbooks_data\" folder***"
   ]
  },
  {
   "cell_type": "markdown",
   "id": "2dacfb1d-3073-4668-adc3-651d8d8782bc",
   "metadata": {},
   "source": [
    "### 1) Create your dataframe of entities and suffixes using (account_keys.xlsx)"
   ]
  },
  {
   "cell_type": "code",
   "execution_count": 138,
   "id": "21a7e0f1-7064-416d-a1f3-73b68c6de3b8",
   "metadata": {},
   "outputs": [
    {
     "data": {
      "text/html": [
       "<div>\n",
       "<style scoped>\n",
       "    .dataframe tbody tr th:only-of-type {\n",
       "        vertical-align: middle;\n",
       "    }\n",
       "\n",
       "    .dataframe tbody tr th {\n",
       "        vertical-align: top;\n",
       "    }\n",
       "\n",
       "    .dataframe thead th {\n",
       "        text-align: right;\n",
       "    }\n",
       "</style>\n",
       "<table border=\"1\" class=\"dataframe\">\n",
       "  <thead>\n",
       "    <tr style=\"text-align: right;\">\n",
       "      <th></th>\n",
       "      <th>Acronym</th>\n",
       "      <th>Trial Balance</th>\n",
       "      <th>Entity</th>\n",
       "    </tr>\n",
       "  </thead>\n",
       "  <tbody>\n",
       "    <tr>\n",
       "      <th>0</th>\n",
       "      <td>ABC</td>\n",
       "      <td>34-ABC</td>\n",
       "      <td>ABC Subsidiary</td>\n",
       "    </tr>\n",
       "    <tr>\n",
       "      <th>1</th>\n",
       "      <td>DEF</td>\n",
       "      <td>34-DEF</td>\n",
       "      <td>DEF Subsidiary</td>\n",
       "    </tr>\n",
       "    <tr>\n",
       "      <th>2</th>\n",
       "      <td>GHI</td>\n",
       "      <td>34-GHI</td>\n",
       "      <td>GHI Subsidiary</td>\n",
       "    </tr>\n",
       "    <tr>\n",
       "      <th>3</th>\n",
       "      <td>JKL</td>\n",
       "      <td>34-GPD</td>\n",
       "      <td>JKL Subsidiary</td>\n",
       "    </tr>\n",
       "    <tr>\n",
       "      <th>4</th>\n",
       "      <td>MNO</td>\n",
       "      <td>34-MNO</td>\n",
       "      <td>MNO Subsidiary</td>\n",
       "    </tr>\n",
       "  </tbody>\n",
       "</table>\n",
       "</div>"
      ],
      "text/plain": [
       "  Acronym Trial Balance          Entity\n",
       "0     ABC        34-ABC  ABC Subsidiary\n",
       "1     DEF        34-DEF  DEF Subsidiary\n",
       "2     GHI        34-GHI  GHI Subsidiary\n",
       "3     JKL        34-GPD  JKL Subsidiary\n",
       "4     MNO        34-MNO  MNO Subsidiary"
      ]
     },
     "execution_count": 138,
     "metadata": {},
     "output_type": "execute_result"
    }
   ],
   "source": [
    "ent_df = pd.read_excel('account_keys.xlsx')\n",
    "ent_df.head()"
   ]
  },
  {
   "cell_type": "markdown",
   "id": "d03690a1-0d7d-412f-81c8-b408c81c9af8",
   "metadata": {},
   "source": [
    "### 2) Create your dictionary of filenames and keys"
   ]
  },
  {
   "cell_type": "code",
   "execution_count": 139,
   "id": "ce548275-efc0-4431-9d53-0a0e5fcb7b85",
   "metadata": {},
   "outputs": [
    {
     "data": {
      "text/plain": [
       "{'JKL Subsidiary.xlsx': '.JKL',\n",
       " 'MNO Subsidiary.xlsx': '.MNO',\n",
       " 'PQR Subsidiary.xlsx': '.PQR',\n",
       " 'STU Subsidiary.xlsx': '.STU',\n",
       " 'VWX Subsidiary.xlsx': '.VWX',\n",
       " 'YZ Subsidiary.xlsx': '.YZ',\n",
       " '123 Subsidiary.xlsx': '.123',\n",
       " '234 Subsidiary.xlsx': '.234',\n",
       " '345 Subsidiary.xlsx': '.345',\n",
       " '456 Subsidiary.xlsx': '.456',\n",
       " '567 Subsidiary.xlsx': '.567',\n",
       " '678 Subsidiary.xlsx': '.678',\n",
       " '789 Subsidiary.xlsx': '.789',\n",
       " '890 Subsidiary.xlsx': '.890',\n",
       " '999 Subsidiary.xlsx': '.999'}"
      ]
     },
     "execution_count": 139,
     "metadata": {},
     "output_type": "execute_result"
    }
   ],
   "source": [
    "ent_dict = create_entity_dict(ent_df, 'Entity', 'Acronym', data_folder='./more_quickbooks_data/')\n",
    "\n",
    "ent_dict"
   ]
  },
  {
   "cell_type": "markdown",
   "id": "668e3c8e-ce2c-4884-88a8-5c6654bf9c5d",
   "metadata": {},
   "source": [
    "### 3) Apply formatting"
   ]
  },
  {
   "cell_type": "code",
   "execution_count": 140,
   "id": "dc8c68ce-bdb8-49c9-9ada-c97c47dd27b0",
   "metadata": {},
   "outputs": [
    {
     "name": "stdout",
     "output_type": "stream",
     "text": [
      "formatting JKL Subsidiary.xlsx...\n",
      "formatted_tb_JKL Subsidiary.xlsx successfully created\n",
      "formatting MNO Subsidiary.xlsx...\n",
      "formatted_tb_MNO Subsidiary.xlsx successfully created\n",
      "formatting PQR Subsidiary.xlsx...\n",
      "formatted_tb_PQR Subsidiary.xlsx successfully created\n",
      "formatting STU Subsidiary.xlsx...\n",
      "formatted_tb_STU Subsidiary.xlsx successfully created\n",
      "formatting VWX Subsidiary.xlsx...\n",
      "formatted_tb_VWX Subsidiary.xlsx successfully created\n",
      "formatting YZ Subsidiary.xlsx...\n",
      "formatted_tb_YZ Subsidiary.xlsx successfully created\n",
      "formatting 123 Subsidiary.xlsx...\n",
      "formatted_tb_123 Subsidiary.xlsx successfully created\n",
      "formatting 234 Subsidiary.xlsx...\n",
      "formatted_tb_234 Subsidiary.xlsx successfully created\n",
      "formatting 345 Subsidiary.xlsx...\n",
      "formatted_tb_345 Subsidiary.xlsx successfully created\n",
      "formatting 456 Subsidiary.xlsx...\n",
      "formatted_tb_456 Subsidiary.xlsx successfully created\n",
      "formatting 567 Subsidiary.xlsx...\n",
      "formatted_tb_567 Subsidiary.xlsx successfully created\n",
      "formatting 678 Subsidiary.xlsx...\n",
      "formatted_tb_678 Subsidiary.xlsx successfully created\n",
      "formatting 789 Subsidiary.xlsx...\n",
      "formatted_tb_789 Subsidiary.xlsx successfully created\n",
      "formatting 890 Subsidiary.xlsx...\n",
      "formatted_tb_890 Subsidiary.xlsx successfully created\n",
      "formatting 999 Subsidiary.xlsx...\n",
      "formatted_tb_999 Subsidiary.xlsx successfully created\n"
     ]
    }
   ],
   "source": [
    "format_tbs(ent_dict, data_folder='./more_quickbooks_data/')"
   ]
  },
  {
   "cell_type": "code",
   "execution_count": 142,
   "id": "9b8070f0-ba35-49a2-90d0-26378b710d5c",
   "metadata": {},
   "outputs": [
    {
     "data": {
      "text/html": [
       "<div>\n",
       "<style scoped>\n",
       "    .dataframe tbody tr th:only-of-type {\n",
       "        vertical-align: middle;\n",
       "    }\n",
       "\n",
       "    .dataframe tbody tr th {\n",
       "        vertical-align: top;\n",
       "    }\n",
       "\n",
       "    .dataframe thead th {\n",
       "        text-align: right;\n",
       "    }\n",
       "</style>\n",
       "<table border=\"1\" class=\"dataframe\">\n",
       "  <thead>\n",
       "    <tr style=\"text-align: right;\">\n",
       "      <th></th>\n",
       "      <th>account_number</th>\n",
       "      <th>account_name</th>\n",
       "      <th>balance</th>\n",
       "    </tr>\n",
       "  </thead>\n",
       "  <tbody>\n",
       "    <tr>\n",
       "      <th>0</th>\n",
       "      <td>1010.123</td>\n",
       "      <td>Example Bank - Business Banking</td>\n",
       "      <td>716.80</td>\n",
       "    </tr>\n",
       "    <tr>\n",
       "      <th>1</th>\n",
       "      <td>1210.123</td>\n",
       "      <td>Cash In Transit</td>\n",
       "      <td>0.00</td>\n",
       "    </tr>\n",
       "    <tr>\n",
       "      <th>2</th>\n",
       "      <td>13011.1.123</td>\n",
       "      <td>Land</td>\n",
       "      <td>3561613.12</td>\n",
       "    </tr>\n",
       "    <tr>\n",
       "      <th>3</th>\n",
       "      <td>13011.3.123</td>\n",
       "      <td>Assignment Fee</td>\n",
       "      <td>131260.00</td>\n",
       "    </tr>\n",
       "    <tr>\n",
       "      <th>4</th>\n",
       "      <td>13012.123</td>\n",
       "      <td>Closing Cost</td>\n",
       "      <td>48155.45</td>\n",
       "    </tr>\n",
       "    <tr>\n",
       "      <th>5</th>\n",
       "      <td>13013.123</td>\n",
       "      <td>Property Taxes</td>\n",
       "      <td>537.42</td>\n",
       "    </tr>\n",
       "    <tr>\n",
       "      <th>6</th>\n",
       "      <td>13061.123</td>\n",
       "      <td>Interest</td>\n",
       "      <td>245590.42</td>\n",
       "    </tr>\n",
       "    <tr>\n",
       "      <th>7</th>\n",
       "      <td>13064.123</td>\n",
       "      <td>Closing Cost</td>\n",
       "      <td>14600.00</td>\n",
       "    </tr>\n",
       "    <tr>\n",
       "      <th>8</th>\n",
       "      <td>13065.123</td>\n",
       "      <td>Origination Fee</td>\n",
       "      <td>39700.00</td>\n",
       "    </tr>\n",
       "    <tr>\n",
       "      <th>9</th>\n",
       "      <td>13022.123</td>\n",
       "      <td>Property Insurance</td>\n",
       "      <td>1252.95</td>\n",
       "    </tr>\n",
       "    <tr>\n",
       "      <th>10</th>\n",
       "      <td>14002.123</td>\n",
       "      <td>Surveying</td>\n",
       "      <td>419508.70</td>\n",
       "    </tr>\n",
       "    <tr>\n",
       "      <th>11</th>\n",
       "      <td>14006.123</td>\n",
       "      <td>Government fees</td>\n",
       "      <td>63262.00</td>\n",
       "    </tr>\n",
       "    <tr>\n",
       "      <th>12</th>\n",
       "      <td>14007.123</td>\n",
       "      <td>Ecological</td>\n",
       "      <td>6800.00</td>\n",
       "    </tr>\n",
       "    <tr>\n",
       "      <th>13</th>\n",
       "      <td>14012.123</td>\n",
       "      <td>Admin. Costs</td>\n",
       "      <td>14701.99</td>\n",
       "    </tr>\n",
       "    <tr>\n",
       "      <th>14</th>\n",
       "      <td>14013.123</td>\n",
       "      <td>Consultants</td>\n",
       "      <td>8262.50</td>\n",
       "    </tr>\n",
       "    <tr>\n",
       "      <th>15</th>\n",
       "      <td>14014.123</td>\n",
       "      <td>Engineering</td>\n",
       "      <td>23560.80</td>\n",
       "    </tr>\n",
       "    <tr>\n",
       "      <th>16</th>\n",
       "      <td>14015.123</td>\n",
       "      <td>Environmental</td>\n",
       "      <td>55140.24</td>\n",
       "    </tr>\n",
       "    <tr>\n",
       "      <th>17</th>\n",
       "      <td>14021.123</td>\n",
       "      <td>Legal</td>\n",
       "      <td>42555.73</td>\n",
       "    </tr>\n",
       "    <tr>\n",
       "      <th>18</th>\n",
       "      <td>14022.123</td>\n",
       "      <td>Closing Costs</td>\n",
       "      <td>28575.75</td>\n",
       "    </tr>\n",
       "    <tr>\n",
       "      <th>19</th>\n",
       "      <td>14098.123</td>\n",
       "      <td>Cap. Costs from DEF</td>\n",
       "      <td>113822.81</td>\n",
       "    </tr>\n",
       "    <tr>\n",
       "      <th>20</th>\n",
       "      <td>20000.123</td>\n",
       "      <td>Accounts Payable</td>\n",
       "      <td>-66992.31</td>\n",
       "    </tr>\n",
       "    <tr>\n",
       "      <th>21</th>\n",
       "      <td>20000.1.123</td>\n",
       "      <td>UNAPPROVED A/P</td>\n",
       "      <td>-103956.00</td>\n",
       "    </tr>\n",
       "    <tr>\n",
       "      <th>22</th>\n",
       "      <td>20051.123</td>\n",
       "      <td>Contractor X, LLC</td>\n",
       "      <td>-4683500.00</td>\n",
       "    </tr>\n",
       "    <tr>\n",
       "      <th>23</th>\n",
       "      <td>2333.123</td>\n",
       "      <td>Accrued Interest Payable</td>\n",
       "      <td>-24945.21</td>\n",
       "    </tr>\n",
       "    <tr>\n",
       "      <th>24</th>\n",
       "      <td>20101.123</td>\n",
       "      <td>Due To/(From) - YZ Subsidiary</td>\n",
       "      <td>1043861.84</td>\n",
       "    </tr>\n",
       "    <tr>\n",
       "      <th>25</th>\n",
       "      <td>20401.123</td>\n",
       "      <td>Note Payable - John Doe</td>\n",
       "      <td>-1000000.00</td>\n",
       "    </tr>\n",
       "    <tr>\n",
       "      <th>26</th>\n",
       "      <td>60400.123</td>\n",
       "      <td>Bank Service Charges</td>\n",
       "      <td>515.00</td>\n",
       "    </tr>\n",
       "    <tr>\n",
       "      <th>27</th>\n",
       "      <td>67300.123</td>\n",
       "      <td>Management Fee Exp.</td>\n",
       "      <td>15400.00</td>\n",
       "    </tr>\n",
       "    <tr>\n",
       "      <th>28</th>\n",
       "      <td>69000.123</td>\n",
       "      <td>Political Contribution</td>\n",
       "      <td>0.00</td>\n",
       "    </tr>\n",
       "  </tbody>\n",
       "</table>\n",
       "</div>"
      ],
      "text/plain": [
       "   account_number                     account_name     balance\n",
       "0        1010.123  Example Bank - Business Banking      716.80\n",
       "1        1210.123                  Cash In Transit        0.00\n",
       "2     13011.1.123                             Land  3561613.12\n",
       "3     13011.3.123                   Assignment Fee   131260.00\n",
       "4       13012.123                     Closing Cost    48155.45\n",
       "5       13013.123                   Property Taxes      537.42\n",
       "6       13061.123                         Interest   245590.42\n",
       "7       13064.123                     Closing Cost    14600.00\n",
       "8       13065.123                  Origination Fee    39700.00\n",
       "9       13022.123               Property Insurance     1252.95\n",
       "10      14002.123                        Surveying   419508.70\n",
       "11      14006.123                  Government fees    63262.00\n",
       "12      14007.123                       Ecological     6800.00\n",
       "13      14012.123                     Admin. Costs    14701.99\n",
       "14      14013.123                      Consultants     8262.50\n",
       "15      14014.123                      Engineering    23560.80\n",
       "16      14015.123                    Environmental    55140.24\n",
       "17      14021.123                            Legal    42555.73\n",
       "18      14022.123                    Closing Costs    28575.75\n",
       "19      14098.123              Cap. Costs from DEF   113822.81\n",
       "20      20000.123                 Accounts Payable   -66992.31\n",
       "21    20000.1.123                   UNAPPROVED A/P  -103956.00\n",
       "22      20051.123                Contractor X, LLC -4683500.00\n",
       "23       2333.123         Accrued Interest Payable   -24945.21\n",
       "24      20101.123    Due To/(From) - YZ Subsidiary  1043861.84\n",
       "25      20401.123          Note Payable - John Doe -1000000.00\n",
       "26      60400.123             Bank Service Charges      515.00\n",
       "27      67300.123              Management Fee Exp.    15400.00\n",
       "28      69000.123           Political Contribution        0.00"
      ]
     },
     "execution_count": 142,
     "metadata": {},
     "output_type": "execute_result"
    }
   ],
   "source": [
    "# View formatted data\n",
    "pd.read_excel('./ready_for_tb_import/formatted_tb_123 Subsidiary.xlsx')"
   ]
  },
  {
   "cell_type": "code",
   "execution_count": null,
   "id": "6bcdf0b5-aa66-4267-9b9a-f1f9838479dc",
   "metadata": {},
   "outputs": [],
   "source": []
  }
 ],
 "metadata": {
  "kernelspec": {
   "display_name": "Python 3 (ipykernel)",
   "language": "python",
   "name": "python3"
  },
  "language_info": {
   "codemirror_mode": {
    "name": "ipython",
    "version": 3
   },
   "file_extension": ".py",
   "mimetype": "text/x-python",
   "name": "python",
   "nbconvert_exporter": "python",
   "pygments_lexer": "ipython3",
   "version": "3.9.12"
  }
 },
 "nbformat": 4,
 "nbformat_minor": 5
}
