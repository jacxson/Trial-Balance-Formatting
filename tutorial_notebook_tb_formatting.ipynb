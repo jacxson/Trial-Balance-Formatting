{
 "cells": [
  {
   "cell_type": "markdown",
   "id": "2df37c0c-ec73-4899-a4c1-38eccc2f2b07",
   "metadata": {},
   "source": [
    "# Import Modules"
   ]
  },
  {
   "cell_type": "code",
   "execution_count": 132,
   "id": "2b713f41-9c47-4aa3-940f-a32ffae73795",
   "metadata": {},
   "outputs": [],
   "source": [
    "import pandas as pd\n",
    "import os"
   ]
  },
  {
   "cell_type": "markdown",
   "id": "f17abaf8-36c1-490f-82aa-ca4eefa6dd39",
   "metadata": {
    "tags": []
   },
   "source": [
    "# Preparing Directories\n",
    "* Before running any other code, make sure output folders are created to help keep everything organized. \n",
    "* use os.listdir() to generate a list of the working directory to check if folders already exist \n",
    "* use os.mkdir() to make new folders\n",
    "\n",
    "***tip: use an if statement to check if output folders already exist to avoid raising an error when you try to create a folder that already exists***"
   ]
  },
  {
   "cell_type": "code",
   "execution_count": 133,
   "id": "31cc2e60-bdd7-4976-b8fc-a845d369783c",
   "metadata": {},
   "outputs": [],
   "source": [
    "if 'ready_for_tb_import' not in os.listdir():\n",
    "    os.mkdir('./ready_for_tb_import/')\n",
    "\n",
    "if 'processed_quickbooks_files' not in os.listdir():\n",
    "    os.mkdir('./processed_quickbooks_files/')"
   ]
  },
  {
   "cell_type": "markdown",
   "id": "4859e0f1-f96a-4de1-89f8-a7aa9fdc37ef",
   "metadata": {
    "tags": []
   },
   "source": [
    "# Creating a Dictionary of Files to Format\n",
    "## You will need:\n",
    "1) An excel file with entity names that match the quickbooks file names (minus the .xlsx extension) and corresponding account suffixes to use for CCH Engagement\n",
    "2) All of your quickbooks data collected into a single folder within your working directory\n",
    "\n",
    "*if you need a refresher on why these suffixes are needed, see the project README file on github [Trial Balance Formatting](https://github.com/jacxson/Trial-Balance-Formatting)*\n",
    "\n",
    "## Steps:\n",
    "1) Create a dataframe from the excel file with entity names and suffixes (account_keys.xlsx)\n",
    "2) Create a list of files in the folder that has the excel files exported from quickbooks (./quickbooks_data/)\n",
    "3) Loop through the entities in the dataframe and compare it to the list of quickbooks files. Add any matches to a dictionary that contains the file name and the corresponding account suffix from the dataframe.\n",
    "\n"
   ]
  },
  {
   "cell_type": "markdown",
   "id": "1793a330-e6df-41a4-8443-e4ddd1edad1b",
   "metadata": {},
   "source": [
    "#### 1) Create dataframe of account_key.xlsx"
   ]
  },
  {
   "cell_type": "code",
   "execution_count": 134,
   "id": "b64794ce-f2b0-4749-8cb0-d7382a35b75b",
   "metadata": {},
   "outputs": [
    {
     "data": {
      "text/html": [
       "<div>\n",
       "<style scoped>\n",
       "    .dataframe tbody tr th:only-of-type {\n",
       "        vertical-align: middle;\n",
       "    }\n",
       "\n",
       "    .dataframe tbody tr th {\n",
       "        vertical-align: top;\n",
       "    }\n",
       "\n",
       "    .dataframe thead th {\n",
       "        text-align: right;\n",
       "    }\n",
       "</style>\n",
       "<table border=\"1\" class=\"dataframe\">\n",
       "  <thead>\n",
       "    <tr style=\"text-align: right;\">\n",
       "      <th></th>\n",
       "      <th>Acronym</th>\n",
       "      <th>Trial Balance</th>\n",
       "      <th>Entity</th>\n",
       "    </tr>\n",
       "  </thead>\n",
       "  <tbody>\n",
       "    <tr>\n",
       "      <th>0</th>\n",
       "      <td>ABC</td>\n",
       "      <td>34-ABC</td>\n",
       "      <td>ABC Subsidiary</td>\n",
       "    </tr>\n",
       "    <tr>\n",
       "      <th>1</th>\n",
       "      <td>DEF</td>\n",
       "      <td>34-DEF</td>\n",
       "      <td>DEF Subsidiary</td>\n",
       "    </tr>\n",
       "    <tr>\n",
       "      <th>2</th>\n",
       "      <td>GHI</td>\n",
       "      <td>34-GHI</td>\n",
       "      <td>GHI Subsidiary</td>\n",
       "    </tr>\n",
       "    <tr>\n",
       "      <th>3</th>\n",
       "      <td>JKL</td>\n",
       "      <td>34-GPD</td>\n",
       "      <td>JKL Subsidiary</td>\n",
       "    </tr>\n",
       "    <tr>\n",
       "      <th>4</th>\n",
       "      <td>MNO</td>\n",
       "      <td>34-MNO</td>\n",
       "      <td>MNO Subsidiary</td>\n",
       "    </tr>\n",
       "  </tbody>\n",
       "</table>\n",
       "</div>"
      ],
      "text/plain": [
       "  Acronym Trial Balance          Entity\n",
       "0     ABC        34-ABC  ABC Subsidiary\n",
       "1     DEF        34-DEF  DEF Subsidiary\n",
       "2     GHI        34-GHI  GHI Subsidiary\n",
       "3     JKL        34-GPD  JKL Subsidiary\n",
       "4     MNO        34-MNO  MNO Subsidiary"
      ]
     },
     "execution_count": 134,
     "metadata": {},
     "output_type": "execute_result"
    }
   ],
   "source": [
    "entities_df = pd.read_excel('account_keys.xlsx')\n",
    "\n",
    "# view first 5 rows\n",
    "entities_df.head()"
   ]
  },
  {
   "cell_type": "markdown",
   "id": "33ae3ea1-9fee-4ab3-92b5-b4b1db4d6ddd",
   "metadata": {},
   "source": [
    "#### 2. Create list of files in the quickbooks_data folder"
   ]
  },
  {
   "cell_type": "code",
   "execution_count": 135,
   "id": "47f404a9-83c2-41c0-8f2f-07405b1b798d",
   "metadata": {},
   "outputs": [],
   "source": [
    "data = os.listdir('./quickbooks_data/')"
   ]
  },
  {
   "cell_type": "markdown",
   "id": "82e6ac29-0ac4-4dd7-9c6c-d19a5e4e78df",
   "metadata": {},
   "source": [
    "#### 3) Loop through the entities in the dataframe and compare it to the list of quickbooks files. Add any matches to a dictionary that contains the file name and the corresponding account suffix from the dataframe.\n",
    "\n",
    "***tip: use the zip() function to loop through multiple dataframe columns simultaneously***"
   ]
  },
  {
   "cell_type": "code",
   "execution_count": 136,
   "id": "1606360b-4ab1-4351-a0d9-f053e07f930c",
   "metadata": {},
   "outputs": [
    {
     "data": {
      "text/plain": [
       "{'ABC Subsidiary.xlsx': '.ABC',\n",
       " 'DEF Subsidiary.xlsx': '.DEF',\n",
       " 'GHI Subsidiary.xlsx': '.GHI'}"
      ]
     },
     "execution_count": 136,
     "metadata": {},
     "output_type": "execute_result"
    }
   ],
   "source": [
    "# Create an empty dictionary\n",
    "entity_dict = {}\n",
    "\n",
    "# use zip() function to loop through entity names and suffixes in the entities dataframe simulaneously\n",
    "for entity, suffix in zip(entities_df['Entity'], entities_df['Acronym']):\n",
    "    \n",
    "    # if a match occurs between the files in the data list and the entities column, add the filename as key and the suffix as value to the empty dictionary\n",
    "    if entity + '.xlsx' in data:\n",
    "        entity_dict.update({f'{entity}.xlsx':f'.{suffix}'})\n",
    "        \n",
    "# view the entity_dict\n",
    "entity_dict"
   ]
  },
  {
   "cell_type": "markdown",
   "id": "bce4bc1f-7757-45ce-b8e3-6ff31b4fc6cc",
   "metadata": {
    "tags": []
   },
   "source": [
    "# Applying Formatting to a Single Excel File\n",
    "## Steps:\n",
    "1) Import a single excel file as a dataframe\n",
    "2) Drop the 'TOTAL' row\n",
    "3) Replace all null values with zeros\n",
    "4) Split account names and numbers into new separate columns\n",
    "5) Add suffixes to account numbers\n",
    "6) Combine debit and credit columns into a single balance column\n",
    "7) Export a dataframe of only account numbers, account names, and balances to a new excel file\n",
    "8) Move processed files to the appropriate output folder"
   ]
  },
  {
   "cell_type": "markdown",
   "id": "067ba795-07fb-43cb-9f8e-28367d08b927",
   "metadata": {
    "tags": []
   },
   "source": [
    "#### 1) Import a single excel file as a dataframe\n",
    "\n",
    "**Notes:**\n",
    "* QuickBooks exports typically have the default sheet of the workbook dedicated to tips on updating the report in excel. To access the data itself, you must specify sheet_name='Sheet1' as a keyword argument in the pandas.read_excel function, otherwise it will return an empty dataframe\n",
    "* QuickBooks exports also typically have the table starting on row 6 with headers on row 5. Pass skiprows=4 as a keyword argument in oder to read in the data correctly. "
   ]
  },
  {
   "cell_type": "code",
   "execution_count": 137,
   "id": "b6af0f96-ab49-461f-8722-4c02a0393276",
   "metadata": {},
   "outputs": [
    {
     "data": {
      "text/html": [
       "<div>\n",
       "<style scoped>\n",
       "    .dataframe tbody tr th:only-of-type {\n",
       "        vertical-align: middle;\n",
       "    }\n",
       "\n",
       "    .dataframe tbody tr th {\n",
       "        vertical-align: top;\n",
       "    }\n",
       "\n",
       "    .dataframe thead th {\n",
       "        text-align: right;\n",
       "    }\n",
       "</style>\n",
       "<table border=\"1\" class=\"dataframe\">\n",
       "  <thead>\n",
       "    <tr style=\"text-align: right;\">\n",
       "      <th></th>\n",
       "      <th>Unnamed: 0</th>\n",
       "      <th>Unnamed: 1</th>\n",
       "      <th>Debit</th>\n",
       "      <th>Unnamed: 3</th>\n",
       "      <th>Credit</th>\n",
       "    </tr>\n",
       "  </thead>\n",
       "  <tbody>\n",
       "    <tr>\n",
       "      <th>0</th>\n",
       "      <td>NaN</td>\n",
       "      <td>1010 · Example Bank - Business Banking</td>\n",
       "      <td>716.80</td>\n",
       "      <td>NaN</td>\n",
       "      <td>NaN</td>\n",
       "    </tr>\n",
       "    <tr>\n",
       "      <th>1</th>\n",
       "      <td>NaN</td>\n",
       "      <td>1210 · Cash In Transit</td>\n",
       "      <td>0.00</td>\n",
       "      <td>NaN</td>\n",
       "      <td>NaN</td>\n",
       "    </tr>\n",
       "    <tr>\n",
       "      <th>2</th>\n",
       "      <td>NaN</td>\n",
       "      <td>13010 · Land Held for Investment:13011 · Land ...</td>\n",
       "      <td>3561613.12</td>\n",
       "      <td>NaN</td>\n",
       "      <td>NaN</td>\n",
       "    </tr>\n",
       "    <tr>\n",
       "      <th>3</th>\n",
       "      <td>NaN</td>\n",
       "      <td>13010 · Land Held for Investment:13011 · Land ...</td>\n",
       "      <td>131260.00</td>\n",
       "      <td>NaN</td>\n",
       "      <td>NaN</td>\n",
       "    </tr>\n",
       "    <tr>\n",
       "      <th>4</th>\n",
       "      <td>NaN</td>\n",
       "      <td>13010 · Land Held for Investment:13011 · Land ...</td>\n",
       "      <td>48155.45</td>\n",
       "      <td>NaN</td>\n",
       "      <td>NaN</td>\n",
       "    </tr>\n",
       "  </tbody>\n",
       "</table>\n",
       "</div>"
      ],
      "text/plain": [
       "  Unnamed: 0                                         Unnamed: 1       Debit  \\\n",
       "0        NaN             1010 · Example Bank - Business Banking      716.80   \n",
       "1        NaN                             1210 · Cash In Transit        0.00   \n",
       "2        NaN  13010 · Land Held for Investment:13011 · Land ...  3561613.12   \n",
       "3        NaN  13010 · Land Held for Investment:13011 · Land ...   131260.00   \n",
       "4        NaN  13010 · Land Held for Investment:13011 · Land ...    48155.45   \n",
       "\n",
       "   Unnamed: 3  Credit  \n",
       "0         NaN     NaN  \n",
       "1         NaN     NaN  \n",
       "2         NaN     NaN  \n",
       "3         NaN     NaN  \n",
       "4         NaN     NaN  "
      ]
     },
     "execution_count": 137,
     "metadata": {},
     "output_type": "execute_result"
    }
   ],
   "source": [
    "abc = pd.read_excel('./quickbooks_data/ABC Subsidiary.xlsx', sheet_name='Sheet1', skiprows=4)\n",
    "\n",
    "# view first 5 rows of data\n",
    "abc.head()"
   ]
  },
  {
   "cell_type": "code",
   "execution_count": 138,
   "id": "715690b8-cb82-4560-9280-42a8438db9bc",
   "metadata": {},
   "outputs": [
    {
     "data": {
      "text/html": [
       "<div>\n",
       "<style scoped>\n",
       "    .dataframe tbody tr th:only-of-type {\n",
       "        vertical-align: middle;\n",
       "    }\n",
       "\n",
       "    .dataframe tbody tr th {\n",
       "        vertical-align: top;\n",
       "    }\n",
       "\n",
       "    .dataframe thead th {\n",
       "        text-align: right;\n",
       "    }\n",
       "</style>\n",
       "<table border=\"1\" class=\"dataframe\">\n",
       "  <thead>\n",
       "    <tr style=\"text-align: right;\">\n",
       "      <th></th>\n",
       "      <th>Unnamed: 0</th>\n",
       "      <th>Unnamed: 1</th>\n",
       "      <th>Debit</th>\n",
       "      <th>Unnamed: 3</th>\n",
       "      <th>Credit</th>\n",
       "    </tr>\n",
       "  </thead>\n",
       "  <tbody>\n",
       "    <tr>\n",
       "      <th>25</th>\n",
       "      <td>NaN</td>\n",
       "      <td>20400 · Notes Payable:20401 · Note Payable - J...</td>\n",
       "      <td>NaN</td>\n",
       "      <td>NaN</td>\n",
       "      <td>1000000.00</td>\n",
       "    </tr>\n",
       "    <tr>\n",
       "      <th>26</th>\n",
       "      <td>NaN</td>\n",
       "      <td>60400 · Bank Service Charges</td>\n",
       "      <td>515.00</td>\n",
       "      <td>NaN</td>\n",
       "      <td>NaN</td>\n",
       "    </tr>\n",
       "    <tr>\n",
       "      <th>27</th>\n",
       "      <td>NaN</td>\n",
       "      <td>67300 · Management Fee Exp.</td>\n",
       "      <td>15400.00</td>\n",
       "      <td>NaN</td>\n",
       "      <td>NaN</td>\n",
       "    </tr>\n",
       "    <tr>\n",
       "      <th>28</th>\n",
       "      <td>NaN</td>\n",
       "      <td>69000 · Political Contribution</td>\n",
       "      <td>0.00</td>\n",
       "      <td>NaN</td>\n",
       "      <td>NaN</td>\n",
       "    </tr>\n",
       "    <tr>\n",
       "      <th>29</th>\n",
       "      <td>TOTAL</td>\n",
       "      <td>NaN</td>\n",
       "      <td>5879393.52</td>\n",
       "      <td>NaN</td>\n",
       "      <td>5879393.52</td>\n",
       "    </tr>\n",
       "  </tbody>\n",
       "</table>\n",
       "</div>"
      ],
      "text/plain": [
       "   Unnamed: 0                                         Unnamed: 1       Debit  \\\n",
       "25        NaN  20400 · Notes Payable:20401 · Note Payable - J...         NaN   \n",
       "26        NaN                       60400 · Bank Service Charges      515.00   \n",
       "27        NaN                        67300 · Management Fee Exp.    15400.00   \n",
       "28        NaN                     69000 · Political Contribution        0.00   \n",
       "29      TOTAL                                                NaN  5879393.52   \n",
       "\n",
       "    Unnamed: 3      Credit  \n",
       "25         NaN  1000000.00  \n",
       "26         NaN         NaN  \n",
       "27         NaN         NaN  \n",
       "28         NaN         NaN  \n",
       "29         NaN  5879393.52  "
      ]
     },
     "execution_count": 138,
     "metadata": {},
     "output_type": "execute_result"
    }
   ],
   "source": [
    "# view last 5 rows of data\n",
    "abc.iloc[-5:]"
   ]
  },
  {
   "cell_type": "markdown",
   "id": "5ec86451-a0bb-45e8-8d68-f56e033fc73a",
   "metadata": {
    "tags": []
   },
   "source": [
    "#### 2) Drop the 'TOTAL' row.\n",
    "\n",
    "* The total row should be excluded from the trial balance import into CCH Engagement as the program will automatically calculate the total as a test of whether the trial balance is in balance. \n",
    "\n",
    "***tip: use an if statement to double check whether 'TOTAL' is the last column of the dataframe to avoid accidentally deleting a row of data***"
   ]
  },
  {
   "cell_type": "code",
   "execution_count": 139,
   "id": "20b7162d-4901-434b-b93c-642fd41e8045",
   "metadata": {},
   "outputs": [],
   "source": [
    "# Check if last row is total, use .lower() to coerce all characters to be lowercase\n",
    "if 'total' in str(abc.iloc[-1, 0]).lower():\n",
    "    abc.drop(index=len(abc) - 1, inplace=True)"
   ]
  },
  {
   "cell_type": "code",
   "execution_count": 140,
   "id": "ea8fc697-6772-4388-b849-8bd306407e18",
   "metadata": {},
   "outputs": [
    {
     "data": {
      "text/html": [
       "<div>\n",
       "<style scoped>\n",
       "    .dataframe tbody tr th:only-of-type {\n",
       "        vertical-align: middle;\n",
       "    }\n",
       "\n",
       "    .dataframe tbody tr th {\n",
       "        vertical-align: top;\n",
       "    }\n",
       "\n",
       "    .dataframe thead th {\n",
       "        text-align: right;\n",
       "    }\n",
       "</style>\n",
       "<table border=\"1\" class=\"dataframe\">\n",
       "  <thead>\n",
       "    <tr style=\"text-align: right;\">\n",
       "      <th></th>\n",
       "      <th>Unnamed: 0</th>\n",
       "      <th>Unnamed: 1</th>\n",
       "      <th>Debit</th>\n",
       "      <th>Unnamed: 3</th>\n",
       "      <th>Credit</th>\n",
       "    </tr>\n",
       "  </thead>\n",
       "  <tbody>\n",
       "    <tr>\n",
       "      <th>24</th>\n",
       "      <td>NaN</td>\n",
       "      <td>20100 · Due To/(From) Related Entities:20101 ·...</td>\n",
       "      <td>1043861.84</td>\n",
       "      <td>NaN</td>\n",
       "      <td>NaN</td>\n",
       "    </tr>\n",
       "    <tr>\n",
       "      <th>25</th>\n",
       "      <td>NaN</td>\n",
       "      <td>20400 · Notes Payable:20401 · Note Payable - J...</td>\n",
       "      <td>NaN</td>\n",
       "      <td>NaN</td>\n",
       "      <td>1000000.0</td>\n",
       "    </tr>\n",
       "    <tr>\n",
       "      <th>26</th>\n",
       "      <td>NaN</td>\n",
       "      <td>60400 · Bank Service Charges</td>\n",
       "      <td>515.00</td>\n",
       "      <td>NaN</td>\n",
       "      <td>NaN</td>\n",
       "    </tr>\n",
       "    <tr>\n",
       "      <th>27</th>\n",
       "      <td>NaN</td>\n",
       "      <td>67300 · Management Fee Exp.</td>\n",
       "      <td>15400.00</td>\n",
       "      <td>NaN</td>\n",
       "      <td>NaN</td>\n",
       "    </tr>\n",
       "    <tr>\n",
       "      <th>28</th>\n",
       "      <td>NaN</td>\n",
       "      <td>69000 · Political Contribution</td>\n",
       "      <td>0.00</td>\n",
       "      <td>NaN</td>\n",
       "      <td>NaN</td>\n",
       "    </tr>\n",
       "  </tbody>\n",
       "</table>\n",
       "</div>"
      ],
      "text/plain": [
       "   Unnamed: 0                                         Unnamed: 1       Debit  \\\n",
       "24        NaN  20100 · Due To/(From) Related Entities:20101 ·...  1043861.84   \n",
       "25        NaN  20400 · Notes Payable:20401 · Note Payable - J...         NaN   \n",
       "26        NaN                       60400 · Bank Service Charges      515.00   \n",
       "27        NaN                        67300 · Management Fee Exp.    15400.00   \n",
       "28        NaN                     69000 · Political Contribution        0.00   \n",
       "\n",
       "    Unnamed: 3     Credit  \n",
       "24         NaN        NaN  \n",
       "25         NaN  1000000.0  \n",
       "26         NaN        NaN  \n",
       "27         NaN        NaN  \n",
       "28         NaN        NaN  "
      ]
     },
     "execution_count": 140,
     "metadata": {},
     "output_type": "execute_result"
    }
   ],
   "source": [
    "abc.iloc[-5:]"
   ]
  },
  {
   "cell_type": "markdown",
   "id": "4300449e-6e6b-414b-a3e9-021937cafc98",
   "metadata": {
    "tags": []
   },
   "source": [
    "#### 3) Replace all null values with zeros\n",
    "To help avoid issues with adding and substracting later, we can go ahead and replace missing values with zeroes."
   ]
  },
  {
   "cell_type": "code",
   "execution_count": 141,
   "id": "49ebc6cb-866f-4f4a-87f5-6f043b7abfbd",
   "metadata": {},
   "outputs": [],
   "source": [
    "abc.fillna(0, inplace=True)"
   ]
  },
  {
   "cell_type": "markdown",
   "id": "09d01707-c183-419a-9ee9-3d191d9ad60c",
   "metadata": {
    "tags": []
   },
   "source": [
    "#### 4) Split account names and numbers into new separate columns\n",
    "*This is the most invloved section of the notebook, and where the most time is saved*\n",
    "\n",
    "1) Observe how account names and numbers are nested, and more importantly, how they are separated\n",
    "2) Use .split() method with list comprehensions to select only account names and only account numbers\n",
    "3) Create a function that makes it easier to apply splitting to make new columns"
   ]
  },
  {
   "cell_type": "code",
   "execution_count": 142,
   "id": "d5bf344b-fa69-4255-8d85-0e8b08a6f5ba",
   "metadata": {},
   "outputs": [
    {
     "data": {
      "text/html": [
       "<div>\n",
       "<style scoped>\n",
       "    .dataframe tbody tr th:only-of-type {\n",
       "        vertical-align: middle;\n",
       "    }\n",
       "\n",
       "    .dataframe tbody tr th {\n",
       "        vertical-align: top;\n",
       "    }\n",
       "\n",
       "    .dataframe thead th {\n",
       "        text-align: right;\n",
       "    }\n",
       "</style>\n",
       "<table border=\"1\" class=\"dataframe\">\n",
       "  <thead>\n",
       "    <tr style=\"text-align: right;\">\n",
       "      <th></th>\n",
       "      <th>Unnamed: 0</th>\n",
       "      <th>Unnamed: 1</th>\n",
       "      <th>Debit</th>\n",
       "      <th>Unnamed: 3</th>\n",
       "      <th>Credit</th>\n",
       "    </tr>\n",
       "  </thead>\n",
       "  <tbody>\n",
       "    <tr>\n",
       "      <th>0</th>\n",
       "      <td>0</td>\n",
       "      <td>1010 · Example Bank - Business Banking</td>\n",
       "      <td>716.80</td>\n",
       "      <td>0.0</td>\n",
       "      <td>0.0</td>\n",
       "    </tr>\n",
       "    <tr>\n",
       "      <th>1</th>\n",
       "      <td>0</td>\n",
       "      <td>1210 · Cash In Transit</td>\n",
       "      <td>0.00</td>\n",
       "      <td>0.0</td>\n",
       "      <td>0.0</td>\n",
       "    </tr>\n",
       "    <tr>\n",
       "      <th>2</th>\n",
       "      <td>0</td>\n",
       "      <td>13010 · Land Held for Investment:13011 · Land ...</td>\n",
       "      <td>3561613.12</td>\n",
       "      <td>0.0</td>\n",
       "      <td>0.0</td>\n",
       "    </tr>\n",
       "    <tr>\n",
       "      <th>3</th>\n",
       "      <td>0</td>\n",
       "      <td>13010 · Land Held for Investment:13011 · Land ...</td>\n",
       "      <td>131260.00</td>\n",
       "      <td>0.0</td>\n",
       "      <td>0.0</td>\n",
       "    </tr>\n",
       "    <tr>\n",
       "      <th>4</th>\n",
       "      <td>0</td>\n",
       "      <td>13010 · Land Held for Investment:13011 · Land ...</td>\n",
       "      <td>48155.45</td>\n",
       "      <td>0.0</td>\n",
       "      <td>0.0</td>\n",
       "    </tr>\n",
       "  </tbody>\n",
       "</table>\n",
       "</div>"
      ],
      "text/plain": [
       "   Unnamed: 0                                         Unnamed: 1       Debit  \\\n",
       "0           0             1010 · Example Bank - Business Banking      716.80   \n",
       "1           0                             1210 · Cash In Transit        0.00   \n",
       "2           0  13010 · Land Held for Investment:13011 · Land ...  3561613.12   \n",
       "3           0  13010 · Land Held for Investment:13011 · Land ...   131260.00   \n",
       "4           0  13010 · Land Held for Investment:13011 · Land ...    48155.45   \n",
       "\n",
       "   Unnamed: 3  Credit  \n",
       "0         0.0     0.0  \n",
       "1         0.0     0.0  \n",
       "2         0.0     0.0  \n",
       "3         0.0     0.0  \n",
       "4         0.0     0.0  "
      ]
     },
     "execution_count": 142,
     "metadata": {},
     "output_type": "execute_result"
    }
   ],
   "source": [
    "abc.head()"
   ]
  },
  {
   "cell_type": "markdown",
   "id": "862d3b45-a3aa-40db-8762-8537848674d8",
   "metadata": {},
   "source": [
    "**Note:**\n",
    "* Account names and numbers are separarated by \" · \"\n",
    "* But the accounts are also listed nested inside of account groups and subgroups separated by \":\"\n",
    "* To complicate things further, some accounts do not have account groups and/or subgroups included (so we cannot just choose the same index every time)\n",
    "\n",
    "**See the account at index 2 as an example:**\n",
    "* The account name is 'Land' and the account number is '13011.1'\n",
    "* The account sub-group is 'Land Basis' and the sub-group account number is '13011'\n",
    "* The account group in 'Land Help for Investment' and the group account number is '13010'\n",
    "\n",
    "***tip: to consistently select only 'Land' and '13011.1' whether or not the account group or subgroup is present, use a list comprehension that selects only the last element of each list of splits***"
   ]
  },
  {
   "cell_type": "code",
   "execution_count": 143,
   "id": "26032773-94b0-4cd6-b57e-b3b96b8c1dff",
   "metadata": {},
   "outputs": [
    {
     "name": "stdout",
     "output_type": "stream",
     "text": [
      "String before splitting: 13010 · Land Held for Investment:13011 · Land Basis:13011.1 · Land\n",
      "\n",
      "List after splitting: ['13010 · Land Held for Investment', '13011 · Land Basis', '13011.1 · Land']\n",
      "\n",
      "Last element of split list: 13011.1 · Land\n"
     ]
    }
   ],
   "source": [
    "print(f\"String before splitting: {abc['Unnamed: 1'][2]}\\n\")\n",
    "print(f\"List after splitting: {abc['Unnamed: 1'][2].split(':')}\\n\")\n",
    "print(f\"Last element of split list: {abc['Unnamed: 1'][2].split(':')[-1]}\")"
   ]
  },
  {
   "cell_type": "code",
   "execution_count": 144,
   "id": "610938bb-cbe3-4600-b105-41edbcc5de96",
   "metadata": {},
   "outputs": [
    {
     "data": {
      "text/plain": [
       "0    1010 · Example Bank - Business Banking\n",
       "1                    1210 · Cash In Transit\n",
       "2                            13011.1 · Land\n",
       "3                  13011.3 · Assignment Fee\n",
       "4                      13012 · Closing Cost\n",
       "Name: accts_names, dtype: object"
      ]
     },
     "execution_count": 144,
     "metadata": {},
     "output_type": "execute_result"
    }
   ],
   "source": [
    "# Create list comprehension of every last element of split lists and assign it to a new column\n",
    "abc['accts_names'] = [x[-1] for x in abc['Unnamed: 1'].str.split(':')]\n",
    "\n",
    "# View list of account names and numbers\n",
    "abc['accts_names'].head()"
   ]
  },
  {
   "cell_type": "markdown",
   "id": "df712e61-bc10-41cc-9d0e-7230bc70993b",
   "metadata": {},
   "source": [
    "***tip: since we can use essentially the same process to access the account names and numbers from the new column, we can write a function to make repeating this process easier.***"
   ]
  },
  {
   "cell_type": "code",
   "execution_count": 145,
   "id": "081a224d-9945-46ca-9577-4e6835a4e272",
   "metadata": {},
   "outputs": [],
   "source": [
    "def new_col_from_split(df, split_col, delim, index=-1):\n",
    "    \n",
    "    return [x[index] for x in df[split_col].astype(str).str.split(delim)]"
   ]
  },
  {
   "cell_type": "code",
   "execution_count": 146,
   "id": "c0e0bcb4-cb9f-4825-9e64-ae82a18fcdd6",
   "metadata": {},
   "outputs": [
    {
     "data": {
      "text/plain": [
       "['1010 · Example Bank - Business Banking',\n",
       " '1210 · Cash In Transit',\n",
       " '13011.1 · Land',\n",
       " '13011.3 · Assignment Fee',\n",
       " '13012 · Closing Cost']"
      ]
     },
     "execution_count": 146,
     "metadata": {},
     "output_type": "execute_result"
    }
   ],
   "source": [
    "# Compare the first 5 outputs of our function to the first 5 lines of the acct_names column already created\n",
    "new_col_from_split(abc, 'Unnamed: 1', delim=':')[:5]\n"
   ]
  },
  {
   "cell_type": "code",
   "execution_count": 150,
   "id": "3da600ff-d41d-491f-bbab-6cc1ae0590bc",
   "metadata": {},
   "outputs": [
    {
     "data": {
      "text/html": [
       "<div>\n",
       "<style scoped>\n",
       "    .dataframe tbody tr th:only-of-type {\n",
       "        vertical-align: middle;\n",
       "    }\n",
       "\n",
       "    .dataframe tbody tr th {\n",
       "        vertical-align: top;\n",
       "    }\n",
       "\n",
       "    .dataframe thead th {\n",
       "        text-align: right;\n",
       "    }\n",
       "</style>\n",
       "<table border=\"1\" class=\"dataframe\">\n",
       "  <thead>\n",
       "    <tr style=\"text-align: right;\">\n",
       "      <th></th>\n",
       "      <th>Unnamed: 0</th>\n",
       "      <th>Unnamed: 1</th>\n",
       "      <th>Debit</th>\n",
       "      <th>Unnamed: 3</th>\n",
       "      <th>Credit</th>\n",
       "      <th>accts_names</th>\n",
       "      <th>account_number</th>\n",
       "      <th>account_name</th>\n",
       "    </tr>\n",
       "  </thead>\n",
       "  <tbody>\n",
       "    <tr>\n",
       "      <th>0</th>\n",
       "      <td>0</td>\n",
       "      <td>1010 · Example Bank - Business Banking</td>\n",
       "      <td>716.80</td>\n",
       "      <td>0.0</td>\n",
       "      <td>0.0</td>\n",
       "      <td>1010 · Example Bank - Business Banking</td>\n",
       "      <td>1010</td>\n",
       "      <td>Example Bank - Business Banking</td>\n",
       "    </tr>\n",
       "    <tr>\n",
       "      <th>1</th>\n",
       "      <td>0</td>\n",
       "      <td>1210 · Cash In Transit</td>\n",
       "      <td>0.00</td>\n",
       "      <td>0.0</td>\n",
       "      <td>0.0</td>\n",
       "      <td>1210 · Cash In Transit</td>\n",
       "      <td>1210</td>\n",
       "      <td>Cash In Transit</td>\n",
       "    </tr>\n",
       "    <tr>\n",
       "      <th>2</th>\n",
       "      <td>0</td>\n",
       "      <td>13010 · Land Held for Investment:13011 · Land ...</td>\n",
       "      <td>3561613.12</td>\n",
       "      <td>0.0</td>\n",
       "      <td>0.0</td>\n",
       "      <td>13011.1 · Land</td>\n",
       "      <td>13011.1</td>\n",
       "      <td>Land</td>\n",
       "    </tr>\n",
       "    <tr>\n",
       "      <th>3</th>\n",
       "      <td>0</td>\n",
       "      <td>13010 · Land Held for Investment:13011 · Land ...</td>\n",
       "      <td>131260.00</td>\n",
       "      <td>0.0</td>\n",
       "      <td>0.0</td>\n",
       "      <td>13011.3 · Assignment Fee</td>\n",
       "      <td>13011.3</td>\n",
       "      <td>Assignment Fee</td>\n",
       "    </tr>\n",
       "    <tr>\n",
       "      <th>4</th>\n",
       "      <td>0</td>\n",
       "      <td>13010 · Land Held for Investment:13011 · Land ...</td>\n",
       "      <td>48155.45</td>\n",
       "      <td>0.0</td>\n",
       "      <td>0.0</td>\n",
       "      <td>13012 · Closing Cost</td>\n",
       "      <td>13012</td>\n",
       "      <td>Closing Cost</td>\n",
       "    </tr>\n",
       "  </tbody>\n",
       "</table>\n",
       "</div>"
      ],
      "text/plain": [
       "   Unnamed: 0                                         Unnamed: 1       Debit  \\\n",
       "0           0             1010 · Example Bank - Business Banking      716.80   \n",
       "1           0                             1210 · Cash In Transit        0.00   \n",
       "2           0  13010 · Land Held for Investment:13011 · Land ...  3561613.12   \n",
       "3           0  13010 · Land Held for Investment:13011 · Land ...   131260.00   \n",
       "4           0  13010 · Land Held for Investment:13011 · Land ...    48155.45   \n",
       "\n",
       "   Unnamed: 3  Credit                             accts_names account_number  \\\n",
       "0         0.0     0.0  1010 · Example Bank - Business Banking           1010   \n",
       "1         0.0     0.0                  1210 · Cash In Transit           1210   \n",
       "2         0.0     0.0                          13011.1 · Land        13011.1   \n",
       "3         0.0     0.0                13011.3 · Assignment Fee        13011.3   \n",
       "4         0.0     0.0                    13012 · Closing Cost          13012   \n",
       "\n",
       "                      account_name  \n",
       "0  Example Bank - Business Banking  \n",
       "1                  Cash In Transit  \n",
       "2                             Land  \n",
       "3                   Assignment Fee  \n",
       "4                     Closing Cost  "
      ]
     },
     "execution_count": 150,
     "metadata": {},
     "output_type": "execute_result"
    }
   ],
   "source": [
    "# Apply the new function to the acct_names column (only viewing first 5 outputs)\n",
    "abc[:5]"
   ]
  },
  {
   "cell_type": "markdown",
   "id": "116b1f22-5818-43a2-a628-561129721aef",
   "metadata": {},
   "source": [
    "**Note:**\n",
    "* Since our 'index' parameter is set to a default of 0, this function will always grab the last item in each list unless instructed otherwise\n",
    "* To access the account name, no index argument needs to be passed. To access account numbers, the index=0 argument will need to be passed"
   ]
  },
  {
   "cell_type": "code",
   "execution_count": 151,
   "id": "805017fd-da07-42ef-9fb8-28dcc8713599",
   "metadata": {},
   "outputs": [
    {
     "data": {
      "text/plain": [
       "['1010', '1210', '13011.1', '13011.3', '13012']"
      ]
     },
     "execution_count": 151,
     "metadata": {},
     "output_type": "execute_result"
    }
   ],
   "source": [
    "# Access account numbers wiht index=0 (only viewing first 5 outputs)\n",
    "new_col_from_split(abc, 'accts_names', delim=' · ', index=0)[:5]"
   ]
  },
  {
   "cell_type": "code",
   "execution_count": 152,
   "id": "61478db1-6f8d-478e-9570-e96c166b84ff",
   "metadata": {},
   "outputs": [
    {
     "data": {
      "text/html": [
       "<div>\n",
       "<style scoped>\n",
       "    .dataframe tbody tr th:only-of-type {\n",
       "        vertical-align: middle;\n",
       "    }\n",
       "\n",
       "    .dataframe tbody tr th {\n",
       "        vertical-align: top;\n",
       "    }\n",
       "\n",
       "    .dataframe thead th {\n",
       "        text-align: right;\n",
       "    }\n",
       "</style>\n",
       "<table border=\"1\" class=\"dataframe\">\n",
       "  <thead>\n",
       "    <tr style=\"text-align: right;\">\n",
       "      <th></th>\n",
       "      <th>Unnamed: 0</th>\n",
       "      <th>Unnamed: 1</th>\n",
       "      <th>Debit</th>\n",
       "      <th>Unnamed: 3</th>\n",
       "      <th>Credit</th>\n",
       "      <th>accts_names</th>\n",
       "      <th>account_number</th>\n",
       "      <th>account_name</th>\n",
       "    </tr>\n",
       "  </thead>\n",
       "  <tbody>\n",
       "    <tr>\n",
       "      <th>0</th>\n",
       "      <td>0</td>\n",
       "      <td>1010 · Example Bank - Business Banking</td>\n",
       "      <td>716.80</td>\n",
       "      <td>0.0</td>\n",
       "      <td>0.0</td>\n",
       "      <td>1010 · Example Bank - Business Banking</td>\n",
       "      <td>1010</td>\n",
       "      <td>Example Bank - Business Banking</td>\n",
       "    </tr>\n",
       "    <tr>\n",
       "      <th>1</th>\n",
       "      <td>0</td>\n",
       "      <td>1210 · Cash In Transit</td>\n",
       "      <td>0.00</td>\n",
       "      <td>0.0</td>\n",
       "      <td>0.0</td>\n",
       "      <td>1210 · Cash In Transit</td>\n",
       "      <td>1210</td>\n",
       "      <td>Cash In Transit</td>\n",
       "    </tr>\n",
       "    <tr>\n",
       "      <th>2</th>\n",
       "      <td>0</td>\n",
       "      <td>13010 · Land Held for Investment:13011 · Land ...</td>\n",
       "      <td>3561613.12</td>\n",
       "      <td>0.0</td>\n",
       "      <td>0.0</td>\n",
       "      <td>13011.1 · Land</td>\n",
       "      <td>13011.1</td>\n",
       "      <td>Land</td>\n",
       "    </tr>\n",
       "    <tr>\n",
       "      <th>3</th>\n",
       "      <td>0</td>\n",
       "      <td>13010 · Land Held for Investment:13011 · Land ...</td>\n",
       "      <td>131260.00</td>\n",
       "      <td>0.0</td>\n",
       "      <td>0.0</td>\n",
       "      <td>13011.3 · Assignment Fee</td>\n",
       "      <td>13011.3</td>\n",
       "      <td>Assignment Fee</td>\n",
       "    </tr>\n",
       "    <tr>\n",
       "      <th>4</th>\n",
       "      <td>0</td>\n",
       "      <td>13010 · Land Held for Investment:13011 · Land ...</td>\n",
       "      <td>48155.45</td>\n",
       "      <td>0.0</td>\n",
       "      <td>0.0</td>\n",
       "      <td>13012 · Closing Cost</td>\n",
       "      <td>13012</td>\n",
       "      <td>Closing Cost</td>\n",
       "    </tr>\n",
       "  </tbody>\n",
       "</table>\n",
       "</div>"
      ],
      "text/plain": [
       "   Unnamed: 0                                         Unnamed: 1       Debit  \\\n",
       "0           0             1010 · Example Bank - Business Banking      716.80   \n",
       "1           0                             1210 · Cash In Transit        0.00   \n",
       "2           0  13010 · Land Held for Investment:13011 · Land ...  3561613.12   \n",
       "3           0  13010 · Land Held for Investment:13011 · Land ...   131260.00   \n",
       "4           0  13010 · Land Held for Investment:13011 · Land ...    48155.45   \n",
       "\n",
       "   Unnamed: 3  Credit                             accts_names account_number  \\\n",
       "0         0.0     0.0  1010 · Example Bank - Business Banking           1010   \n",
       "1         0.0     0.0                  1210 · Cash In Transit           1210   \n",
       "2         0.0     0.0                          13011.1 · Land        13011.1   \n",
       "3         0.0     0.0                13011.3 · Assignment Fee        13011.3   \n",
       "4         0.0     0.0                    13012 · Closing Cost          13012   \n",
       "\n",
       "                      account_name  \n",
       "0  Example Bank - Business Banking  \n",
       "1                  Cash In Transit  \n",
       "2                             Land  \n",
       "3                   Assignment Fee  \n",
       "4                     Closing Cost  "
      ]
     },
     "execution_count": 152,
     "metadata": {},
     "output_type": "execute_result"
    }
   ],
   "source": [
    "# Assign account name and number columns to be equal to respective outputs of the new_col_from_split function\n",
    "abc['account_number'] = new_col_from_split(abc, 'accts_names', delim=' · ', index=0)\n",
    "abc['account_name'] = new_col_from_split(abc, 'accts_names', delim=' · ')\n",
    "\n",
    "abc.head()"
   ]
  },
  {
   "cell_type": "markdown",
   "id": "fa47271d-767f-41cf-8d6e-e97960f76baf",
   "metadata": {},
   "source": [
    "#### 5) Add suffixes to account numbers"
   ]
  },
  {
   "cell_type": "code",
   "execution_count": 153,
   "id": "97143e56-8174-4a29-be52-08f56dbbad45",
   "metadata": {},
   "outputs": [],
   "source": [
    "# assign suffix variable to the value of the entity_dict belonging to the filename as key\n",
    "suffix = entity_dict['ABC Subsidiary.xlsx']\n",
    "\n",
    "# to avoid adding the suffix multiple time, check if the suffix is in 1 entry of the account numbers column before appending it to all of the account numbers\n",
    "if suffix not in abc['account_number'][0]:\n",
    "    abc['account_number'] += suffix"
   ]
  },
  {
   "cell_type": "code",
   "execution_count": 154,
   "id": "49468660-8e23-4e8f-a434-7697a8b94382",
   "metadata": {},
   "outputs": [
    {
     "data": {
      "text/plain": [
       "0       1010.ABC\n",
       "1       1210.ABC\n",
       "2    13011.1.ABC\n",
       "3    13011.3.ABC\n",
       "4      13012.ABC\n",
       "Name: account_number, dtype: object"
      ]
     },
     "execution_count": 154,
     "metadata": {},
     "output_type": "execute_result"
    }
   ],
   "source": [
    "abc['account_number'].head()"
   ]
  },
  {
   "cell_type": "markdown",
   "id": "678b0799-e9c2-4eab-b7e4-ea6dca0f53ce",
   "metadata": {},
   "source": [
    "#### 6) Combine debit and credit columns into a single balance column\n",
    "The balance column can be easily created by subtracting the credit column from the debit column"
   ]
  },
  {
   "cell_type": "code",
   "execution_count": 155,
   "id": "fdddffe4-abf5-4a9c-8cbf-d354358c16e8",
   "metadata": {},
   "outputs": [
    {
     "data": {
      "text/html": [
       "<div>\n",
       "<style scoped>\n",
       "    .dataframe tbody tr th:only-of-type {\n",
       "        vertical-align: middle;\n",
       "    }\n",
       "\n",
       "    .dataframe tbody tr th {\n",
       "        vertical-align: top;\n",
       "    }\n",
       "\n",
       "    .dataframe thead th {\n",
       "        text-align: right;\n",
       "    }\n",
       "</style>\n",
       "<table border=\"1\" class=\"dataframe\">\n",
       "  <thead>\n",
       "    <tr style=\"text-align: right;\">\n",
       "      <th></th>\n",
       "      <th>Unnamed: 0</th>\n",
       "      <th>Unnamed: 1</th>\n",
       "      <th>Debit</th>\n",
       "      <th>Unnamed: 3</th>\n",
       "      <th>Credit</th>\n",
       "      <th>accts_names</th>\n",
       "      <th>account_number</th>\n",
       "      <th>account_name</th>\n",
       "      <th>balance</th>\n",
       "    </tr>\n",
       "  </thead>\n",
       "  <tbody>\n",
       "    <tr>\n",
       "      <th>0</th>\n",
       "      <td>0</td>\n",
       "      <td>1010 · Example Bank - Business Banking</td>\n",
       "      <td>716.80</td>\n",
       "      <td>0.0</td>\n",
       "      <td>0.0</td>\n",
       "      <td>1010 · Example Bank - Business Banking</td>\n",
       "      <td>1010.ABC</td>\n",
       "      <td>Example Bank - Business Banking</td>\n",
       "      <td>716.80</td>\n",
       "    </tr>\n",
       "    <tr>\n",
       "      <th>1</th>\n",
       "      <td>0</td>\n",
       "      <td>1210 · Cash In Transit</td>\n",
       "      <td>0.00</td>\n",
       "      <td>0.0</td>\n",
       "      <td>0.0</td>\n",
       "      <td>1210 · Cash In Transit</td>\n",
       "      <td>1210.ABC</td>\n",
       "      <td>Cash In Transit</td>\n",
       "      <td>0.00</td>\n",
       "    </tr>\n",
       "    <tr>\n",
       "      <th>2</th>\n",
       "      <td>0</td>\n",
       "      <td>13010 · Land Held for Investment:13011 · Land ...</td>\n",
       "      <td>3561613.12</td>\n",
       "      <td>0.0</td>\n",
       "      <td>0.0</td>\n",
       "      <td>13011.1 · Land</td>\n",
       "      <td>13011.1.ABC</td>\n",
       "      <td>Land</td>\n",
       "      <td>3561613.12</td>\n",
       "    </tr>\n",
       "    <tr>\n",
       "      <th>3</th>\n",
       "      <td>0</td>\n",
       "      <td>13010 · Land Held for Investment:13011 · Land ...</td>\n",
       "      <td>131260.00</td>\n",
       "      <td>0.0</td>\n",
       "      <td>0.0</td>\n",
       "      <td>13011.3 · Assignment Fee</td>\n",
       "      <td>13011.3.ABC</td>\n",
       "      <td>Assignment Fee</td>\n",
       "      <td>131260.00</td>\n",
       "    </tr>\n",
       "    <tr>\n",
       "      <th>4</th>\n",
       "      <td>0</td>\n",
       "      <td>13010 · Land Held for Investment:13011 · Land ...</td>\n",
       "      <td>48155.45</td>\n",
       "      <td>0.0</td>\n",
       "      <td>0.0</td>\n",
       "      <td>13012 · Closing Cost</td>\n",
       "      <td>13012.ABC</td>\n",
       "      <td>Closing Cost</td>\n",
       "      <td>48155.45</td>\n",
       "    </tr>\n",
       "  </tbody>\n",
       "</table>\n",
       "</div>"
      ],
      "text/plain": [
       "   Unnamed: 0                                         Unnamed: 1       Debit  \\\n",
       "0           0             1010 · Example Bank - Business Banking      716.80   \n",
       "1           0                             1210 · Cash In Transit        0.00   \n",
       "2           0  13010 · Land Held for Investment:13011 · Land ...  3561613.12   \n",
       "3           0  13010 · Land Held for Investment:13011 · Land ...   131260.00   \n",
       "4           0  13010 · Land Held for Investment:13011 · Land ...    48155.45   \n",
       "\n",
       "   Unnamed: 3  Credit                             accts_names account_number  \\\n",
       "0         0.0     0.0  1010 · Example Bank - Business Banking       1010.ABC   \n",
       "1         0.0     0.0                  1210 · Cash In Transit       1210.ABC   \n",
       "2         0.0     0.0                          13011.1 · Land    13011.1.ABC   \n",
       "3         0.0     0.0                13011.3 · Assignment Fee    13011.3.ABC   \n",
       "4         0.0     0.0                    13012 · Closing Cost      13012.ABC   \n",
       "\n",
       "                      account_name     balance  \n",
       "0  Example Bank - Business Banking      716.80  \n",
       "1                  Cash In Transit        0.00  \n",
       "2                             Land  3561613.12  \n",
       "3                   Assignment Fee   131260.00  \n",
       "4                     Closing Cost    48155.45  "
      ]
     },
     "execution_count": 155,
     "metadata": {},
     "output_type": "execute_result"
    }
   ],
   "source": [
    "abc['balance'] = abc['Debit'] - abc['Credit']\n",
    "\n",
    "abc.head()"
   ]
  },
  {
   "cell_type": "markdown",
   "id": "c21d81a9-a16c-494e-b30b-506b2ff65190",
   "metadata": {
    "tags": []
   },
   "source": [
    "#### 7) Export a dataframe of only account numbers, account names, and balances to a new excel file in the output folder\n",
    "Trial Balance imports in CCH Engagement take only 3 columns: account numbers, account names, and balances."
   ]
  },
  {
   "cell_type": "code",
   "execution_count": 160,
   "id": "8572fa97-f235-4db4-9716-24d5dbc036d1",
   "metadata": {},
   "outputs": [
    {
     "data": {
      "text/html": [
       "<div>\n",
       "<style scoped>\n",
       "    .dataframe tbody tr th:only-of-type {\n",
       "        vertical-align: middle;\n",
       "    }\n",
       "\n",
       "    .dataframe tbody tr th {\n",
       "        vertical-align: top;\n",
       "    }\n",
       "\n",
       "    .dataframe thead th {\n",
       "        text-align: right;\n",
       "    }\n",
       "</style>\n",
       "<table border=\"1\" class=\"dataframe\">\n",
       "  <thead>\n",
       "    <tr style=\"text-align: right;\">\n",
       "      <th></th>\n",
       "      <th>account_number</th>\n",
       "      <th>account_name</th>\n",
       "      <th>balance</th>\n",
       "    </tr>\n",
       "  </thead>\n",
       "  <tbody>\n",
       "    <tr>\n",
       "      <th>0</th>\n",
       "      <td>1010.ABC</td>\n",
       "      <td>Example Bank - Business Banking</td>\n",
       "      <td>716.80</td>\n",
       "    </tr>\n",
       "    <tr>\n",
       "      <th>1</th>\n",
       "      <td>1210.ABC</td>\n",
       "      <td>Cash In Transit</td>\n",
       "      <td>0.00</td>\n",
       "    </tr>\n",
       "    <tr>\n",
       "      <th>2</th>\n",
       "      <td>13011.1.ABC</td>\n",
       "      <td>Land</td>\n",
       "      <td>3561613.12</td>\n",
       "    </tr>\n",
       "    <tr>\n",
       "      <th>3</th>\n",
       "      <td>13011.3.ABC</td>\n",
       "      <td>Assignment Fee</td>\n",
       "      <td>131260.00</td>\n",
       "    </tr>\n",
       "    <tr>\n",
       "      <th>4</th>\n",
       "      <td>13012.ABC</td>\n",
       "      <td>Closing Cost</td>\n",
       "      <td>48155.45</td>\n",
       "    </tr>\n",
       "  </tbody>\n",
       "</table>\n",
       "</div>"
      ],
      "text/plain": [
       "  account_number                     account_name     balance\n",
       "0       1010.ABC  Example Bank - Business Banking      716.80\n",
       "1       1210.ABC                  Cash In Transit        0.00\n",
       "2    13011.1.ABC                             Land  3561613.12\n",
       "3    13011.3.ABC                   Assignment Fee   131260.00\n",
       "4      13012.ABC                     Closing Cost    48155.45"
      ]
     },
     "execution_count": 160,
     "metadata": {},
     "output_type": "execute_result"
    }
   ],
   "source": [
    "# Assign account_number, account_name, and balance to a list that will serve as a list of columns to export\n",
    "export_cols = ['account_number', 'account_name', 'balance']\n",
    "\n",
    "#filter the dataframe by those columns\n",
    "abc[export_cols].head()"
   ]
  },
  {
   "cell_type": "code",
   "execution_count": 159,
   "id": "08dc8148-4868-45e2-90af-3f717fdb4df7",
   "metadata": {},
   "outputs": [],
   "source": [
    "# set index = False to avoid exporting the indexes along with the data\n",
    "abc[export_cols].to_excel('./ready_for_tb_import/formatted_tb_ABC Subsidiary.xlsx', index=False)"
   ]
  },
  {
   "cell_type": "markdown",
   "id": "3ef5fde3-e4e4-4e58-aa86-212fcbf706e5",
   "metadata": {},
   "source": [
    "#### 8) Move processed files to the appropriate output folder"
   ]
  },
  {
   "cell_type": "code",
   "execution_count": 166,
   "id": "7fe9f5f1-98bc-404c-ad3d-93bb3d6a42fe",
   "metadata": {},
   "outputs": [],
   "source": [
    "# Set filename, source folder, and destination folder variables\n",
    "file = 'ABC Subsidiary.xlsx'\n",
    "source_folder = './quickbooks_data/'\n",
    "dest_folder = './processed_quickbooks_files/'\n",
    "\n",
    "# Use os.rename to replace the source folder with the destination folder in the file path (use the if statement to avoid errors if you run this cell twice!)\n",
    "if file in os.listdir(source_folder):    \n",
    "    os.rename(source_folder + file, dest_folder + file)"
   ]
  },
  {
   "cell_type": "markdown",
   "id": "b9a2a7fa-f27a-41b2-8a24-aadc850964b5",
   "metadata": {},
   "source": [
    "# Putting it All Together\n",
    "* To make this process scalable, we can write a few functions that allow us to loop through the files in the dictionary of entities and apply all of the transformations that were performed on 'ABC Subsidiary.xlsx' to every file in our source folder. \n",
    "* Once these functions are written, there is very little difference in the time it takes to format 1 trial balance or 100. \n",
    "* The use of functions also helps make this code easily adaptable to trial balance formatting for other companies. Quickbooks data is generally exported in similar formats, usually just with different delimiters between account names and numbers. Adapting this approach to another client is often as easy as replacing the delimiter in your function and the names of the source folders and running your script!"
   ]
  },
  {
   "cell_type": "code",
   "execution_count": null,
   "id": "464579af-3377-4823-956b-de53457cfb8e",
   "metadata": {},
   "outputs": [],
   "source": []
  }
 ],
 "metadata": {
  "kernelspec": {
   "display_name": "Python 3 (ipykernel)",
   "language": "python",
   "name": "python3"
  },
  "language_info": {
   "codemirror_mode": {
    "name": "ipython",
    "version": 3
   },
   "file_extension": ".py",
   "mimetype": "text/x-python",
   "name": "python",
   "nbconvert_exporter": "python",
   "pygments_lexer": "ipython3",
   "version": "3.9.12"
  }
 },
 "nbformat": 4,
 "nbformat_minor": 5
}
