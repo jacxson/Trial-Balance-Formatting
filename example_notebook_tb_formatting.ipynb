{
 "cells": [
  {
   "cell_type": "markdown",
   "id": "4fb35ecd-6910-4d36-b8ce-03c917953c57",
   "metadata": {
    "tags": []
   },
   "source": [
    "# Trial Balance Formatting: Preparing QuickBooks Export Data for Import into CCH Engagement\n",
    "\n",
    "**This notebook will contain an example of code used to format trial balance data with limited comments. This code can also be found as a .py file in this same repository (trial_balance_etl.py) For a more detailed explanation of the process and instructions, see the tutorial_notebook_tb_formatting.ipynb in the same repository."
   ]
  },
  {
   "cell_type": "markdown",
   "id": "1c647ae5-283d-49e7-8251-97e4e9fa75b0",
   "metadata": {
    "tags": []
   },
   "source": [
    "## Example Code"
   ]
  },
  {
   "cell_type": "markdown",
   "id": "3031f0f5-57cb-4f93-b2f1-06beed3d0c41",
   "metadata": {},
   "source": [
    "### Import Libraries"
   ]
  },
  {
   "cell_type": "code",
   "execution_count": 1,
   "id": "37f97567",
   "metadata": {},
   "outputs": [],
   "source": [
    "import pandas as pd\n",
    "import os"
   ]
  },
  {
   "cell_type": "markdown",
   "id": "45d259f5-d9db-4c51-8409-cdf5551ddaed",
   "metadata": {},
   "source": [
    "### Helper Functions"
   ]
  },
  {
   "cell_type": "code",
   "execution_count": 14,
   "id": "1dbe50f5-8cf3-45f4-8307-147fcb103b5a",
   "metadata": {},
   "outputs": [],
   "source": [
    "# Create a new dataframe column from splitting another column. 4 arguments:df, column to split, delimiter to split on, and index of the item we want from the .split() method\n",
    "# Set index default to -1 if no argument is given to select the last item in the list\n",
    "\n",
    "def new_col_from_split(df, split_col, delim, index = -1):\n",
    "    return [x[index] for x in df[split_col].astype(str).str.split(delim)]"
   ]
  },
  {
   "cell_type": "code",
   "execution_count": 19,
   "id": "1dfd4ce1-1f14-43c5-8a63-3f05d06041b1",
   "metadata": {},
   "outputs": [],
   "source": [
    "# This function creates a dictionary with files to format and account suffixes that will be added onto the account numbers in the file\n",
    "\n",
    "def create_entity_dict(df, entity_column, suffix_column, data_folder='./quickbooks_data/'):\n",
    "    file_list = os.listdir(data_folder)\n",
    "    return {x + '.xlsx': '.' + y for x, y in zip(df[entity_column], df[suffix_column].astype(str)) if x + '.xlsx' in file_list}"
   ]
  },
  {
   "cell_type": "code",
   "execution_count": 16,
   "id": "553e3326-aabd-46e9-8da1-e32de22d247c",
   "metadata": {},
   "outputs": [],
   "source": [
    "# This function performs all of the standard formatting changes necessary to prepare quickbooks exports for CCH Engagement\n",
    "# Minor Changes may be necessary from project to project\n",
    "\n",
    "def format_tbs(entities, data_folder='./quickbooks_data/'):\n",
    "    \n",
    "    #create output folders\n",
    "    if 'ready_for_tb_import' not in os.listdir():\n",
    "        os.mkdir('./ready_for_import/')\n",
    "        \n",
    "    if 'processed_quickbooks_files' not in os.listdir():\n",
    "        os.mkdir('./processed_quickbooks_files/')\n",
    "        \n",
    "    for entity, suffix in entities.items():\n",
    "        \n",
    "        # Print statement to help with debugging if one of the QuickBooks files is formatted differently\n",
    "        print(f'formatting {entity}')\n",
    "        \n",
    "        # Create a dataframe from the QuickBooks export file\n",
    "        df = pd.read_excel(f'{data_folder}{entity}', sheet_name='Sheet1', skiprows=4)\n",
    "        \n",
    "        # Drop the unneeded Total row\n",
    "        if 'total' in df.iloc[len(df) - 1, 0].lower():\n",
    "            df.drop(index=len(df) - 1, inplace=True)\n",
    "            \n",
    "        # Replace nan values with 0 \n",
    "        df.fillna(0, inplace=True)\n",
    "        \n",
    "        # Split combined name and account coloumn into separate name and account column, adding the suffix to the end of the account numbers.\n",
    "       \n",
    "        df['_col'] = new_col_from_split(df, 'Unnamed: 1', ':')\n",
    "        df['account_number'] = [account + suffix for account  in new_col_from_split(df, '_col', ' · ', index=0)]\n",
    "        df['account_name'] = new_col_from_split(df, '_col', ' · ')\n",
    "        \n",
    "        # Combine debit and credit columns into a single balance column\n",
    "        df['balance'] = df['Debit'] - df['Credit']\n",
    "        \n",
    "        # Export account number, account name, and balance columns to a new excel file in ready_for_import folder\n",
    "        df[['account_number', 'account_name', 'balance']].to_excel(f'./ready_for_tb_import/formatted_tb_{entity}', index=False)\n",
    "        \n",
    "        # Move QuickBooks excel file to import_file_created folder\n",
    "        os.rename(f'./{data_folder}/{entity}', f'./processed_quickbooks_files/{entity}')\n",
    "        \n",
    "        # Print statement confirming successful formatting to help with debugging\n",
    "        print(f'formatted_tb_{entity} successfully created')\n",
    "        "
   ]
  },
  {
   "cell_type": "markdown",
   "id": "d3a25938-1fce-4be2-819a-8ddb2b06228b",
   "metadata": {},
   "source": [
    "### Create Dictionary of Files to Format"
   ]
  },
  {
   "cell_type": "code",
   "execution_count": 17,
   "id": "8efa5d83-84f8-415d-b7a6-7fd7f1a3717e",
   "metadata": {},
   "outputs": [
    {
     "data": {
      "text/html": [
       "<div>\n",
       "<style scoped>\n",
       "    .dataframe tbody tr th:only-of-type {\n",
       "        vertical-align: middle;\n",
       "    }\n",
       "\n",
       "    .dataframe tbody tr th {\n",
       "        vertical-align: top;\n",
       "    }\n",
       "\n",
       "    .dataframe thead th {\n",
       "        text-align: right;\n",
       "    }\n",
       "</style>\n",
       "<table border=\"1\" class=\"dataframe\">\n",
       "  <thead>\n",
       "    <tr style=\"text-align: right;\">\n",
       "      <th></th>\n",
       "      <th>Acronym</th>\n",
       "      <th>Trial Balance</th>\n",
       "      <th>Entity</th>\n",
       "    </tr>\n",
       "  </thead>\n",
       "  <tbody>\n",
       "    <tr>\n",
       "      <th>0</th>\n",
       "      <td>ABC</td>\n",
       "      <td>34-ABC</td>\n",
       "      <td>ABC Subsidiary</td>\n",
       "    </tr>\n",
       "    <tr>\n",
       "      <th>1</th>\n",
       "      <td>DEF</td>\n",
       "      <td>34-DEF</td>\n",
       "      <td>DEF Subsidiary</td>\n",
       "    </tr>\n",
       "    <tr>\n",
       "      <th>2</th>\n",
       "      <td>GHI</td>\n",
       "      <td>34-GHI</td>\n",
       "      <td>GHI Subsidiary</td>\n",
       "    </tr>\n",
       "    <tr>\n",
       "      <th>3</th>\n",
       "      <td>JKL</td>\n",
       "      <td>34-GPD</td>\n",
       "      <td>JKL Subsidiary</td>\n",
       "    </tr>\n",
       "    <tr>\n",
       "      <th>4</th>\n",
       "      <td>MNO</td>\n",
       "      <td>34-MNO</td>\n",
       "      <td>MNO Subsidiary</td>\n",
       "    </tr>\n",
       "  </tbody>\n",
       "</table>\n",
       "</div>"
      ],
      "text/plain": [
       "  Acronym Trial Balance          Entity\n",
       "0     ABC        34-ABC  ABC Subsidiary\n",
       "1     DEF        34-DEF  DEF Subsidiary\n",
       "2     GHI        34-GHI  GHI Subsidiary\n",
       "3     JKL        34-GPD  JKL Subsidiary\n",
       "4     MNO        34-MNO  MNO Subsidiary"
      ]
     },
     "execution_count": 17,
     "metadata": {},
     "output_type": "execute_result"
    }
   ],
   "source": [
    "df_keys = pd.read_excel('account_keys.xlsx')\n",
    "df_keys.head()"
   ]
  },
  {
   "cell_type": "code",
   "execution_count": 12,
   "id": "4c0cea22-429a-4823-b05a-bdec8176f25f",
   "metadata": {},
   "outputs": [
    {
     "data": {
      "text/plain": [
       "{}"
      ]
     },
     "execution_count": 12,
     "metadata": {},
     "output_type": "execute_result"
    }
   ],
   "source": [
    "entity_dict = create_entity_dict(df_keys, entity_column='Entity', suffix_column='Acronym')\n",
    "entity_dict"
   ]
  },
  {
   "cell_type": "markdown",
   "id": "e5d359fa-ac87-40b1-ba85-32722314bdcc",
   "metadata": {},
   "source": [
    "### Format and Export TBs"
   ]
  },
  {
   "cell_type": "code",
   "execution_count": 7,
   "id": "4b419f2a-2dd7-4ad4-8f55-c330e3553b55",
   "metadata": {},
   "outputs": [
    {
     "name": "stdout",
     "output_type": "stream",
     "text": [
      "formatting ABC Subsidiary.xlsx\n",
      "formatted_tb_ABC Subsidiary.xlsx successfully created\n",
      "formatting DEF Subsidiary.xlsx\n",
      "formatted_tb_DEF Subsidiary.xlsx successfully created\n"
     ]
    }
   ],
   "source": [
    "format_tbs(entity_dict)"
   ]
  },
  {
   "cell_type": "markdown",
   "id": "19479706-1aad-435f-a000-42eba41625b2",
   "metadata": {},
   "source": [
    "## Demonstrating Scalability\n",
    "The more_quickbooks_data folder has additional example quickbooks exports from the same company. Since the export format is the same, recreating the transformations from the first run is as easy as passing in the folder name in the 'data_folder' parameters to apply the same formatting to the rest of these subsidiaries."
   ]
  },
  {
   "cell_type": "code",
   "execution_count": 20,
   "id": "37772eb0-8c75-4545-988b-bf8bdd266ac9",
   "metadata": {},
   "outputs": [
    {
     "data": {
      "text/plain": [
       "{'JKL Subsidiary.xlsx': '.JKL',\n",
       " 'MNO Subsidiary.xlsx': '.MNO',\n",
       " 'PQR Subsidiary.xlsx': '.PQR',\n",
       " 'STU Subsidiary.xlsx': '.STU',\n",
       " 'VWX Subsidiary.xlsx': '.VWX',\n",
       " 'YZ Subsidiary.xlsx': '.YZ',\n",
       " '123 Subsidiary.xlsx': '.123',\n",
       " '234 Subsidiary.xlsx': '.234',\n",
       " '345 Subsidiary.xlsx': '.345',\n",
       " '456 Subsidiary.xlsx': '.456',\n",
       " '567 Subsidiary.xlsx': '.567',\n",
       " '678 Subsidiary.xlsx': '.678',\n",
       " '789 Subsidiary.xlsx': '.789',\n",
       " '890 Subsidiary.xlsx': '.890',\n",
       " '999 Subsidiary.xlsx': '.999'}"
      ]
     },
     "execution_count": 20,
     "metadata": {},
     "output_type": "execute_result"
    }
   ],
   "source": [
    "entity_dict = create_entity_dict(df_keys, entity_column='Entity', suffix_column='Acronym', data_folder='./more_quickbooks_data/')\n",
    "entity_dict"
   ]
  },
  {
   "cell_type": "code",
   "execution_count": 10,
   "id": "f36711b1-9bbb-467d-860a-0e462038d04d",
   "metadata": {},
   "outputs": [
    {
     "name": "stdout",
     "output_type": "stream",
     "text": [
      "formatting GHI Subsidiary.xlsx\n",
      "formatted_tb_GHI Subsidiary.xlsx successfully created\n"
     ]
    }
   ],
   "source": [
    "format_tbs(entity_dict, data_folder='./more_quickbooks_data/')"
   ]
  }
 ],
 "metadata": {
  "kernelspec": {
   "display_name": "Python 3 (ipykernel)",
   "language": "python",
   "name": "python3"
  },
  "language_info": {
   "codemirror_mode": {
    "name": "ipython",
    "version": 3
   },
   "file_extension": ".py",
   "mimetype": "text/x-python",
   "name": "python",
   "nbconvert_exporter": "python",
   "pygments_lexer": "ipython3",
   "version": "3.9.12"
  }
 },
 "nbformat": 4,
 "nbformat_minor": 5
}
